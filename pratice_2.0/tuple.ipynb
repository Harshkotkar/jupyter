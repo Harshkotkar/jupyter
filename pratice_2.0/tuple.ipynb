{
 "cells": [
  {
   "cell_type": "code",
   "execution_count": 3,
   "id": "d436ad7a",
   "metadata": {},
   "outputs": [
    {
     "name": "stdout",
     "output_type": "stream",
     "text": [
      "(1, 2, 3, 4, 5, 6)\n",
      "<class 'tuple'>\n"
     ]
    }
   ],
   "source": [
    "a=(1,2,3,4,5,6)\n",
    "print(a)\n",
    "print(type(a))"
   ]
  },
  {
   "cell_type": "code",
   "execution_count": 5,
   "id": "5b035f4e",
   "metadata": {},
   "outputs": [
    {
     "name": "stdout",
     "output_type": "stream",
     "text": [
      "[1, 2, 3, 4, 5, 6, 7, 8, 9, 0]\n",
      "<class 'list'>\n",
      "(1, 2, 3, 4, 5, 6, 7, 8, 9, 0)\n",
      "<class 'tuple'>\n"
     ]
    }
   ],
   "source": [
    "list=[1,2,3,4,5,6,7,8,9,0]\n",
    "print(list)\n",
    "print(type(list))\n",
    "tupple=tuple(list)\n",
    "print(tupple)\n",
    "print(type(tupple))"
   ]
  },
  {
   "cell_type": "code",
   "execution_count": 16,
   "id": "98c91195",
   "metadata": {},
   "outputs": [
    {
     "name": "stdout",
     "output_type": "stream",
     "text": [
      "('this', 'the', 'exmaple', 'of', 'the', 'converting', 'the', 'string', 'into', 'the', 'tuple')\n"
     ]
    }
   ],
   "source": [
    "import re\n",
    "str=\"this the exmaple of the converting the string into the tuple\"\n",
    "str1=re.findall(r'\\b\\w+\\b',str)\n",
    "tuple1=tuple(str1)\n",
    "print(tuple1)"
   ]
  },
  {
   "cell_type": "code",
   "execution_count": 18,
   "id": "b19aad4f",
   "metadata": {},
   "outputs": [
    {
     "name": "stdout",
     "output_type": "stream",
     "text": [
      "{'a': 1, 'b': 2, 'c': 3}\n",
      "<class 'tuple'>\n",
      "('a', 'b', 'c')\n"
     ]
    }
   ],
   "source": [
    "dict={'a':1,'b':2,'c':3}\n",
    "tuple2=tuple(dict)\n",
    "print(dict)\n",
    "print(type(tuple2))\n",
    "print(tuple2)"
   ]
  },
  {
   "cell_type": "code",
   "execution_count": 22,
   "id": "48021ea9",
   "metadata": {},
   "outputs": [
    {
     "name": "stdout",
     "output_type": "stream",
     "text": [
      "('apple', 'mango', 'orang', 'grapes', 'banana')\n",
      "mango\n",
      "orang\n",
      "grapes\n",
      "banana\n"
     ]
    }
   ],
   "source": [
    "fruits=(\"apple\",\"mango\",\"orange\",\"grapes\",\"banana\")\n",
    "print(fruits)\n",
    "print(fruits[1])\n",
    "print(fruits[2])\n",
    "print(fruits[3])\n",
    "print(fruits[4])\n",
    "\n"
   ]
  },
  {
   "cell_type": "code",
   "execution_count": 38,
   "id": "fac9d4d4",
   "metadata": {},
   "outputs": [
    {
     "name": "stdout",
     "output_type": "stream",
     "text": [
      "('apple', 'mango')\n",
      "('orange', 'grapes', 'banana')\n",
      "('apple', 'orange')\n",
      "('apple', 'mango')\n",
      "('orange', 'grapes', 'banana')\n",
      "('banana', 'grapes', 'orange', 'mango', 'apple')\n"
     ]
    }
   ],
   "source": [
    "fruits=(\"apple\",\"mango\",\"orange\",\"grapes\",\"banana\")\n",
    "print(fruits[0:2])\n",
    "print(fruits[2:5])\n",
    "print(fruits[0:4:2])\n",
    "print(fruits[:-3])\n",
    "print(fruits[-3:])\n",
    "print(fruits[::-1])"
   ]
  },
  {
   "cell_type": "code",
   "execution_count": 45,
   "id": "0570f915",
   "metadata": {
    "scrolled": true
   },
   "outputs": [
    {
     "name": "stdout",
     "output_type": "stream",
     "text": [
      "(1, 2, 3, 4, 5, 6, 7, 8)\n",
      "(4, 5, 6, 7, 8)\n",
      "(1, 2, 3, 4)\n",
      "(2, 3, 4)\n",
      "()\n",
      "(4, 5, 6)\n"
     ]
    }
   ],
   "source": [
    "t=(1,2,3,4,5,6,7,8)\n",
    "print(t[::])\n",
    "print(t[3:])\n",
    "print(t[:4])\n",
    "print(t[1:4])\n",
    "print(t[-2:-5])\n",
    "print(t[-5:-2])"
   ]
  },
  {
   "cell_type": "code",
   "execution_count": 58,
   "id": "10c8792c",
   "metadata": {},
   "outputs": [
    {
     "name": "stdout",
     "output_type": "stream",
     "text": [
      "[1, 2, 3, 4, 6, 7]\n"
     ]
    }
   ],
   "source": [
    "a=[2,3,1,7,6,4]\n",
    "a.sort()\n",
    "print(a)"
   ]
  },
  {
   "cell_type": "code",
   "execution_count": 63,
   "id": "2885bdb0",
   "metadata": {},
   "outputs": [
    {
     "name": "stdout",
     "output_type": "stream",
     "text": [
      "[2, 3, 5, 6, 7, 8]\n"
     ]
    }
   ],
   "source": [
    "def sort(nums):\n",
    "    for i in range(len(nums)-1,0,-1):\n",
    "        for j in range(i):\n",
    "            if nums[j]>nums[j+1]:\n",
    "                temp=nums[j]\n",
    "                nums[j]=nums[j+1]\n",
    "                nums[j+1]=temp\n",
    "\n",
    "nums=[5,3,8,6,7,2]\n",
    "sort(nums)\n",
    "print(nums)\n",
    "\n",
    "                "
   ]
  },
  {
   "cell_type": "code",
   "execution_count": null,
   "id": "e587318e",
   "metadata": {},
   "outputs": [],
   "source": []
  }
 ],
 "metadata": {
  "kernelspec": {
   "display_name": "Python 3 (ipykernel)",
   "language": "python",
   "name": "python3"
  },
  "language_info": {
   "codemirror_mode": {
    "name": "ipython",
    "version": 3
   },
   "file_extension": ".py",
   "mimetype": "text/x-python",
   "name": "python",
   "nbconvert_exporter": "python",
   "pygments_lexer": "ipython3",
   "version": "3.11.1"
  }
 },
 "nbformat": 4,
 "nbformat_minor": 5
}
