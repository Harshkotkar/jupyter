{
 "cells": [
  {
   "cell_type": "code",
   "execution_count": null,
   "id": "29dccdf4-e340-4f01-b083-e1f981e2708e",
   "metadata": {},
   "outputs": [],
   "source": [
    "\n",
    "# 1)Write a Python program to check that a string contains only the characters a-z, A-Z and 0-9)\n",
    "\n",
    "\n",
    "import re\n",
    "\n",
    "def check_string(s):\n",
    "    pattern = r'^[a-zA-Z0-9]+$'\n",
    "    if re.match(pattern, s):\n",
    "        return True\n",
    "    else:\n",
    "        return False\n",
    "\n",
    "user = input(\"Enter a string: \")\n",
    "if check_string(user):\n",
    "    print(\"The string contains a-z, A-Z, and 0-9.\")\n",
    "else:\n",
    "    print(\"The string contains other characters.\")\n"
   ]
  },
  {
   "cell_type": "code",
   "execution_count": null,
   "id": "132a69dd",
   "metadata": {},
   "outputs": [],
   "source": []
  },
  {
   "cell_type": "code",
   "execution_count": null,
   "id": "45e7bd32-4527-43f4-b604-79d53637a60e",
   "metadata": {},
   "outputs": [],
   "source": [
    "# 2)Write a Python program that matches a string that has an a followed by one or more b's.\n",
    "# Accept the string from the user.\n",
    "\n",
    "import re\n",
    "\n",
    "def match_ab(s):\n",
    "    pattern = r'a+b+'\n",
    "    if re.search(pattern, s):\n",
    "        return True\n",
    "    else:\n",
    "        return False\n",
    "\n",
    "user= input(\"Enter a string: \")\n",
    "if match_ab(user):\n",
    "    print(\"The string matches the pattern 'a' followed by one or more 'b's.\")\n",
    "else:\n",
    "    print(\"The string does not match the pattern.\")\n"
   ]
  },
  {
   "cell_type": "code",
   "execution_count": 1,
   "id": "6cc6cace-344d-4e94-aa7f-06fe154954b7",
   "metadata": {},
   "outputs": [],
   "source": [
    "\n",
    "\n"
   ]
  }
 ],
 "metadata": {
  "kernelspec": {
   "display_name": "Python 3 (ipykernel)",
   "language": "python",
   "name": "python3"
  },
  "language_info": {
   "codemirror_mode": {
    "name": "ipython",
    "version": 3
   },
   "file_extension": ".py",
   "mimetype": "text/x-python",
   "name": "python",
   "nbconvert_exporter": "python",
   "pygments_lexer": "ipython3",
   "version": "3.11.1"
  }
 },
 "nbformat": 4,
 "nbformat_minor": 5
}
