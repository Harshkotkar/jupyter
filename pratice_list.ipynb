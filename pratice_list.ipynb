{
 "cells": [
  {
   "cell_type": "code",
   "execution_count": 10,
   "id": "b48d92ca",
   "metadata": {},
   "outputs": [
    {
     "name": "stdout",
     "output_type": "stream",
     "text": [
      "fist second third fourth ['fist', 'second', 'third', 'fourth']\n"
     ]
    }
   ],
   "source": [
    "list1=[\"fist\",\"second\",\"third\",\"fourth\"]\n",
    "\n",
    "for i in list1:\n",
    "    \n",
    "    rank=i\n",
    "    print(rank,end=\" \")\n",
    "print(list1)"
   ]
  },
  {
   "cell_type": "code",
   "execution_count": null,
   "id": "2dd98ac8",
   "metadata": {},
   "outputs": [],
   "source": [
    "#properties of list : ordered ,heterogenious,indexed-2types +ve=0 1 2 3 , -ve=-3 -2 -1"
   ]
  },
  {
   "cell_type": "code",
   "execution_count": 12,
   "id": "5fd32017",
   "metadata": {},
   "outputs": [
    {
     "name": "stdout",
     "output_type": "stream",
     "text": [
      "[89, 76, 93, 72, 91]\n"
     ]
    }
   ],
   "source": [
    "#write a python program to create the list consistting the score greater than 70\n",
    "list2=[55,89,76,65,93,50,72,91]\n",
    "score=[]\n",
    "for i in list2:\n",
    "    if i>70:\n",
    "       score.append(i)\n",
    "print(score)\n"
   ]
  },
  {
   "cell_type": "code",
   "execution_count": null,
   "id": "8e06d728",
   "metadata": {},
   "outputs": [],
   "source": []
  }
 ],
 "metadata": {
  "kernelspec": {
   "display_name": "Python 3 (ipykernel)",
   "language": "python",
   "name": "python3"
  },
  "language_info": {
   "codemirror_mode": {
    "name": "ipython",
    "version": 3
   },
   "file_extension": ".py",
   "mimetype": "text/x-python",
   "name": "python",
   "nbconvert_exporter": "python",
   "pygments_lexer": "ipython3",
   "version": "3.11.1"
  }
 },
 "nbformat": 4,
 "nbformat_minor": 5
}
