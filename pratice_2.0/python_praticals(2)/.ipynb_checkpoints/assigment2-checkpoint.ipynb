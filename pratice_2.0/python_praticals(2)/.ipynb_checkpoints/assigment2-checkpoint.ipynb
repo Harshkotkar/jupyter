{
 "cells": [
  {
   "cell_type": "code",
   "execution_count": 1,
   "id": "baf2704d",
   "metadata": {},
   "outputs": [],
   "source": [
    "import numpy as np\n",
    "import pandas as pd\n",
    "from sklearn.datasets import load_iris"
   ]
  },
  {
   "cell_type": "code",
   "execution_count": 37,
   "id": "d04bac89",
   "metadata": {},
   "outputs": [
    {
     "name": "stdout",
     "output_type": "stream",
     "text": [
      "Feature names: ['sepal length (cm)', 'sepal width (cm)', 'petal length (cm)', 'petal width (cm)']\n"
     ]
    }
   ],
   "source": [
    "# Q.I: Operations on the Iris dataset\n",
    "iris = load_iris()\n",
    "iris_data = iris.data\n",
    "data_i=pd.read_csv(\"iris.csv\")\n",
    "feature_names = iris.feature_names\n",
    "print(\"Feature names:\", feature_names)\n"
   ]
  },
  {
   "cell_type": "markdown",
   "id": "18342bee",
   "metadata": {},
   "source": [
    "1. Find all rows from iris data petal length (3rd column) > 1.5 and sepal length (1st column) <5.0"
   ]
  },
  {
   "cell_type": "code",
   "execution_count": 3,
   "id": "a07c3367",
   "metadata": {},
   "outputs": [
    {
     "name": "stdout",
     "output_type": "stream",
     "text": [
      "[[4.8 3.4 1.6 0.2]\n",
      " [4.8 3.4 1.9 0.2]\n",
      " [4.7 3.2 1.6 0.2]\n",
      " [4.8 3.1 1.6 0.2]\n",
      " [4.9 2.4 3.3 1. ]\n",
      " [4.9 2.5 4.5 1.7]]\n"
     ]
    }
   ],
   "source": [
    "condition = (iris_data[:, 2] > 1.5)&(iris_data[:, 0] < 5.0) \n",
    "filtered_rows = iris_data[condition]\n",
    "print(filtered_rows)"
   ]
  },
  {
   "cell_type": "code",
   "execution_count": 4,
   "id": "fae8872f",
   "metadata": {},
   "outputs": [
    {
     "name": "stdout",
     "output_type": "stream",
     "text": [
      "min: 4.3\n",
      "max: 7.9\n",
      "std: 0.8253012917851409\n"
     ]
    }
   ],
   "source": [
    "# 2. Find min, max and standard deviation of sepal length (1st column)\n",
    "\n",
    "sepal_length = iris_data[:, 0]\n",
    "min_sepal = sepal_length.min()\n",
    "max_sepal = sepal_length.max()\n",
    "std_sepal = sepal_length.std()\n",
    "\n",
    "print(\"min:\", min_sepal)\n",
    "print(\"max:\", max_sepal)\n",
    "print(\"std:\", std_sepal)"
   ]
  },
  {
   "cell_type": "code",
   "execution_count": 5,
   "id": "8e847a84",
   "metadata": {},
   "outputs": [
    {
     "name": "stdout",
     "output_type": "stream",
     "text": [
      "normalized sepal lengths (0 to 1):\n",
      "[0.22222222 0.16666667 0.11111111 0.08333333 0.19444444 0.30555556\n",
      " 0.08333333 0.19444444 0.02777778 0.16666667]\n"
     ]
    }
   ],
   "source": [
    "# 3. Normalize the sepal length values so they range exactly from 0 to 1.\n",
    "normalized_sepal = (sepal_length - min_sepal) / (max_sepal - min_sepal)\n",
    "print(\"normalized sepal lengths (0 to 1):\")\n",
    "print(normalized_sepal[:10])"
   ]
  },
  {
   "cell_type": "code",
   "execution_count": 6,
   "id": "c9c39a6b",
   "metadata": {},
   "outputs": [
    {
     "name": "stdout",
     "output_type": "stream",
     "text": [
      "Nan data inserted into the petal length: [114  62  33 107   7 100  40  86  76  71 134  51  73  54  63]\n"
     ]
    }
   ],
   "source": [
    "# 4. insert null values randomly in the petal length column(3rd column)\n",
    "nan_data=iris_data.copy()\n",
    "np.random.seed(0) #basicaly seed(0) is use when we create a random number but we want to keep the random number genrated same as every time we run the code ,if we do not use the random.seed(0) the code we run will genrate every time new random numbers. \n",
    "num=15 # inserting n15 null values in the nan_data in these block we create the deep copy of the iris data rather than creating the shallow copy. \n",
    "rand_indices=np.random.choice(nan_data.shape[0],num,replace=False) #np.random.choice select the random number from the array in these line we .shape[0] gives total number f the rows and replace=False insure that selected indices is not repeated again\n",
    "nan_data[rand_indices]=np.nan\n",
    "print(\"Nan data inserted into the petal length:\",rand_indices)"
   ]
  },
  {
   "cell_type": "code",
   "execution_count": 7,
   "id": "487e367d",
   "metadata": {},
   "outputs": [
    {
     "name": "stdout",
     "output_type": "stream",
     "text": [
      "(array([  7,  33,  40,  51,  54,  62,  63,  71,  73,  76,  86, 100, 107,\n",
      "       114, 134], dtype=int64),)\n"
     ]
    }
   ],
   "source": [
    "#5. find position(row indices) of the  namn value in the petal length column.\n",
    "missing_val=np.where(np.isnan(nan_data[:,2]))\n",
    "print(missing_val)"
   ]
  },
  {
   "cell_type": "code",
   "execution_count": 8,
   "id": "0efd4050",
   "metadata": {},
   "outputs": [
    {
     "name": "stdout",
     "output_type": "stream",
     "text": [
      "before droping nan values= (150, 4)\n",
      "after droping nan values= (135, 4)\n"
     ]
    }
   ],
   "source": [
    "#6 drop all the rows from the iris dataset with Nan values\n",
    "new_iris_data=nan_data[~np.isnan(nan_data).any(axis=1)] # we created a new_iris_data and np.nan will make the true where nan is avalable and .any(axis=1) will check the each row that consis of then \"true\" ~ is a not oprator in thse case it will invert the false-->true and true__>false so where there is false that row will be negilated.axis=1 means we will aply the opration row wise applyin it on every row if it is axis=0 will be applied column wise\n",
    "print(\"before droping nan values=\",nan_data.shape)\n",
    "print(\"after droping nan values=\",new_iris_data.shape)\n"
   ]
  },
  {
   "cell_type": "code",
   "execution_count": 38,
   "id": "7e6894a5",
   "metadata": {
    "scrolled": true
   },
   "outputs": [
    {
     "ename": "KeyError",
     "evalue": "'species'",
     "output_type": "error",
     "traceback": [
      "\u001b[1;31m---------------------------------------------------------------------------\u001b[0m",
      "\u001b[1;31mKeyError\u001b[0m                                  Traceback (most recent call last)",
      "File \u001b[1;32m~\\AppData\\Local\\Programs\\Python\\Python311\\Lib\\site-packages\\pandas\\core\\indexes\\base.py:3790\u001b[0m, in \u001b[0;36mIndex.get_loc\u001b[1;34m(self, key)\u001b[0m\n\u001b[0;32m   3789\u001b[0m \u001b[38;5;28;01mtry\u001b[39;00m:\n\u001b[1;32m-> 3790\u001b[0m     \u001b[38;5;28;01mreturn\u001b[39;00m \u001b[38;5;28;43mself\u001b[39;49m\u001b[38;5;241;43m.\u001b[39;49m\u001b[43m_engine\u001b[49m\u001b[38;5;241;43m.\u001b[39;49m\u001b[43mget_loc\u001b[49m\u001b[43m(\u001b[49m\u001b[43mcasted_key\u001b[49m\u001b[43m)\u001b[49m\n\u001b[0;32m   3791\u001b[0m \u001b[38;5;28;01mexcept\u001b[39;00m \u001b[38;5;167;01mKeyError\u001b[39;00m \u001b[38;5;28;01mas\u001b[39;00m err:\n",
      "File \u001b[1;32mindex.pyx:152\u001b[0m, in \u001b[0;36mpandas._libs.index.IndexEngine.get_loc\u001b[1;34m()\u001b[0m\n",
      "File \u001b[1;32mindex.pyx:181\u001b[0m, in \u001b[0;36mpandas._libs.index.IndexEngine.get_loc\u001b[1;34m()\u001b[0m\n",
      "File \u001b[1;32mpandas\\_libs\\hashtable_class_helper.pxi:7080\u001b[0m, in \u001b[0;36mpandas._libs.hashtable.PyObjectHashTable.get_item\u001b[1;34m()\u001b[0m\n",
      "File \u001b[1;32mpandas\\_libs\\hashtable_class_helper.pxi:7088\u001b[0m, in \u001b[0;36mpandas._libs.hashtable.PyObjectHashTable.get_item\u001b[1;34m()\u001b[0m\n",
      "\u001b[1;31mKeyError\u001b[0m: 'species'",
      "\nThe above exception was the direct cause of the following exception:\n",
      "\u001b[1;31mKeyError\u001b[0m                                  Traceback (most recent call last)",
      "Cell \u001b[1;32mIn[38], line 3\u001b[0m\n\u001b[0;32m      1\u001b[0m \u001b[38;5;66;03m#7. How to count unique values of species.\u001b[39;00m\n\u001b[1;32m----> 3\u001b[0m species_counts \u001b[38;5;241m=\u001b[39m \u001b[43mdata_i\u001b[49m\u001b[43m[\u001b[49m\u001b[38;5;124;43m'\u001b[39;49m\u001b[38;5;124;43mspecies\u001b[39;49m\u001b[38;5;124;43m'\u001b[39;49m\u001b[43m]\u001b[49m\u001b[38;5;241m.\u001b[39mvalue_counts()\n\u001b[0;32m      4\u001b[0m \u001b[38;5;28mprint\u001b[39m(\u001b[38;5;124m\"\u001b[39m\u001b[38;5;124mspecies count\u001b[39m\u001b[38;5;124m\"\u001b[39m,species_counts)\n",
      "File \u001b[1;32m~\\AppData\\Local\\Programs\\Python\\Python311\\Lib\\site-packages\\pandas\\core\\frame.py:3893\u001b[0m, in \u001b[0;36mDataFrame.__getitem__\u001b[1;34m(self, key)\u001b[0m\n\u001b[0;32m   3891\u001b[0m \u001b[38;5;28;01mif\u001b[39;00m \u001b[38;5;28mself\u001b[39m\u001b[38;5;241m.\u001b[39mcolumns\u001b[38;5;241m.\u001b[39mnlevels \u001b[38;5;241m>\u001b[39m \u001b[38;5;241m1\u001b[39m:\n\u001b[0;32m   3892\u001b[0m     \u001b[38;5;28;01mreturn\u001b[39;00m \u001b[38;5;28mself\u001b[39m\u001b[38;5;241m.\u001b[39m_getitem_multilevel(key)\n\u001b[1;32m-> 3893\u001b[0m indexer \u001b[38;5;241m=\u001b[39m \u001b[38;5;28;43mself\u001b[39;49m\u001b[38;5;241;43m.\u001b[39;49m\u001b[43mcolumns\u001b[49m\u001b[38;5;241;43m.\u001b[39;49m\u001b[43mget_loc\u001b[49m\u001b[43m(\u001b[49m\u001b[43mkey\u001b[49m\u001b[43m)\u001b[49m\n\u001b[0;32m   3894\u001b[0m \u001b[38;5;28;01mif\u001b[39;00m is_integer(indexer):\n\u001b[0;32m   3895\u001b[0m     indexer \u001b[38;5;241m=\u001b[39m [indexer]\n",
      "File \u001b[1;32m~\\AppData\\Local\\Programs\\Python\\Python311\\Lib\\site-packages\\pandas\\core\\indexes\\base.py:3797\u001b[0m, in \u001b[0;36mIndex.get_loc\u001b[1;34m(self, key)\u001b[0m\n\u001b[0;32m   3792\u001b[0m     \u001b[38;5;28;01mif\u001b[39;00m \u001b[38;5;28misinstance\u001b[39m(casted_key, \u001b[38;5;28mslice\u001b[39m) \u001b[38;5;129;01mor\u001b[39;00m (\n\u001b[0;32m   3793\u001b[0m         \u001b[38;5;28misinstance\u001b[39m(casted_key, abc\u001b[38;5;241m.\u001b[39mIterable)\n\u001b[0;32m   3794\u001b[0m         \u001b[38;5;129;01mand\u001b[39;00m \u001b[38;5;28many\u001b[39m(\u001b[38;5;28misinstance\u001b[39m(x, \u001b[38;5;28mslice\u001b[39m) \u001b[38;5;28;01mfor\u001b[39;00m x \u001b[38;5;129;01min\u001b[39;00m casted_key)\n\u001b[0;32m   3795\u001b[0m     ):\n\u001b[0;32m   3796\u001b[0m         \u001b[38;5;28;01mraise\u001b[39;00m InvalidIndexError(key)\n\u001b[1;32m-> 3797\u001b[0m     \u001b[38;5;28;01mraise\u001b[39;00m \u001b[38;5;167;01mKeyError\u001b[39;00m(key) \u001b[38;5;28;01mfrom\u001b[39;00m \u001b[38;5;21;01merr\u001b[39;00m\n\u001b[0;32m   3798\u001b[0m \u001b[38;5;28;01mexcept\u001b[39;00m \u001b[38;5;167;01mTypeError\u001b[39;00m:\n\u001b[0;32m   3799\u001b[0m     \u001b[38;5;66;03m# If we have a listlike key, _check_indexing_error will raise\u001b[39;00m\n\u001b[0;32m   3800\u001b[0m     \u001b[38;5;66;03m#  InvalidIndexError. Otherwise we fall through and re-raise\u001b[39;00m\n\u001b[0;32m   3801\u001b[0m     \u001b[38;5;66;03m#  the TypeError.\u001b[39;00m\n\u001b[0;32m   3802\u001b[0m     \u001b[38;5;28mself\u001b[39m\u001b[38;5;241m.\u001b[39m_check_indexing_error(key)\n",
      "\u001b[1;31mKeyError\u001b[0m: 'species'"
     ]
    }
   ],
   "source": [
    "#7. How to count unique values of species.\n",
    "\n",
    "species_counts = data_i['pecies'].value_counts()\n",
    "print(\"species count\",species_counts)"
   ]
  },
  {
   "cell_type": "code",
   "execution_count": 10,
   "id": "ac3eaa64",
   "metadata": {},
   "outputs": [],
   "source": [
    "#2. Display Number of Rows per Species with NumPy\n",
    "\n",
    "\n"
   ]
  },
  {
   "cell_type": "markdown",
   "id": "99f364c3",
   "metadata": {},
   "source": [
    "Q.II Create a dataframe using following details:\n",
    "\n",
    "Rollno, Name, ContactNo, Gender, Course Name.Marks"
   ]
  },
  {
   "cell_type": "code",
   "execution_count": 11,
   "id": "eb07403e",
   "metadata": {},
   "outputs": [
    {
     "data": {
      "text/html": [
       "<div>\n",
       "<style scoped>\n",
       "    .dataframe tbody tr th:only-of-type {\n",
       "        vertical-align: middle;\n",
       "    }\n",
       "\n",
       "    .dataframe tbody tr th {\n",
       "        vertical-align: top;\n",
       "    }\n",
       "\n",
       "    .dataframe thead th {\n",
       "        text-align: right;\n",
       "    }\n",
       "</style>\n",
       "<table border=\"1\" class=\"dataframe\">\n",
       "  <thead>\n",
       "    <tr style=\"text-align: right;\">\n",
       "      <th></th>\n",
       "      <th>Rollno</th>\n",
       "      <th>Name</th>\n",
       "      <th>ContactNo</th>\n",
       "      <th>Gender</th>\n",
       "      <th>Course</th>\n",
       "      <th>Score</th>\n",
       "    </tr>\n",
       "  </thead>\n",
       "  <tbody>\n",
       "    <tr>\n",
       "      <th>0</th>\n",
       "      <td>1</td>\n",
       "      <td>Alice</td>\n",
       "      <td>1234567890</td>\n",
       "      <td>F</td>\n",
       "      <td>Computer Science</td>\n",
       "      <td>78</td>\n",
       "    </tr>\n",
       "    <tr>\n",
       "      <th>1</th>\n",
       "      <td>2</td>\n",
       "      <td>Bob</td>\n",
       "      <td>2345678901</td>\n",
       "      <td>M</td>\n",
       "      <td>Robotics</td>\n",
       "      <td>91</td>\n",
       "    </tr>\n",
       "    <tr>\n",
       "      <th>2</th>\n",
       "      <td>3</td>\n",
       "      <td>Alena</td>\n",
       "      <td>3456789012</td>\n",
       "      <td>F</td>\n",
       "      <td>Genomics</td>\n",
       "      <td>90</td>\n",
       "    </tr>\n",
       "    <tr>\n",
       "      <th>3</th>\n",
       "      <td>4</td>\n",
       "      <td>Kartik</td>\n",
       "      <td>4567890123</td>\n",
       "      <td>M</td>\n",
       "      <td>Medical Science</td>\n",
       "      <td>99</td>\n",
       "    </tr>\n",
       "    <tr>\n",
       "      <th>4</th>\n",
       "      <td>5</td>\n",
       "      <td>Ankita</td>\n",
       "      <td>5678901234</td>\n",
       "      <td>F</td>\n",
       "      <td>Data Science</td>\n",
       "      <td>80</td>\n",
       "    </tr>\n",
       "  </tbody>\n",
       "</table>\n",
       "</div>"
      ],
      "text/plain": [
       "   Rollno    Name   ContactNo Gender            Course  Score\n",
       "0       1   Alice  1234567890      F  Computer Science     78\n",
       "1       2     Bob  2345678901      M          Robotics     91\n",
       "2       3   Alena  3456789012      F          Genomics     90\n",
       "3       4  Kartik  4567890123      M   Medical Science     99\n",
       "4       5  Ankita  5678901234      F      Data Science     80"
      ]
     },
     "execution_count": 11,
     "metadata": {},
     "output_type": "execute_result"
    }
   ],
   "source": [
    "#1. Add 10 records.\n",
    "student_data = {\n",
    "    'Rollno': [1, 2, 3, 4, 5, 6, 7, 8, 9, 10],\n",
    "    'Name': ['Alice', 'Bob', 'Alena', 'Kartik', 'Ankita', 'Eikta', 'Akruti', 'Avinash', 'dhruv', 'DJ'],\n",
    "    'ContactNo': ['1234567890', '2345678901', '3456789012', '4567890123', '5678901234', '6789012345', '7890123456', '8901234567', '9012345678', '0123456789'],\n",
    "    'Gender': ['F', 'M', 'F', 'M', 'F', 'F', 'F', 'M', 'M', 'F'],\n",
    "    'Course': ['Computer Science', 'Robotics', 'Genomics', 'Medical Science', 'Data Science', 'Aqua Sciece', 'Life science', 'Psychology', 'Zoology', 'Neuroscience'],\n",
    "    'Score': [78, 91, 90, 99, 80, 85, 76, 87, 92, 98]\n",
    "}\n",
    "\n",
    "student= pd.DataFrame(student_data)\n",
    "student.head()"
   ]
  },
  {
   "cell_type": "code",
   "execution_count": 12,
   "id": "7e91310e",
   "metadata": {},
   "outputs": [
    {
     "name": "stdout",
     "output_type": "stream",
     "text": [
      "Students whose names start with 'A':\n",
      "0      Alice\n",
      "2      Alena\n",
      "4     Ankita\n",
      "6     Akruti\n",
      "7    Avinash\n",
      "Name: Name, dtype: object\n"
     ]
    }
   ],
   "source": [
    "# 2. Display all student names starting with letter \"A\"\n",
    "names_A = student[student['Name'].str.startswith('A')]['Name']\n",
    "print(\"Students whose names start with 'A':\")\n",
    "print(names_A)\n"
   ]
  },
  {
   "cell_type": "code",
   "execution_count": 13,
   "id": "4d13feb3",
   "metadata": {},
   "outputs": [
    {
     "name": "stdout",
     "output_type": "stream",
     "text": [
      "students whose have marks greater than 85\n",
      "   Rollno     Name   ContactNo Gender           Course  Score\n",
      "1       2      Bob  2345678901      M         Robotics     91\n",
      "2       3    Alena  3456789012      F         Genomics     90\n",
      "3       4   Kartik  4567890123      M  Medical Science     99\n",
      "7       8  Avinash  8901234567      M       Psychology     87\n",
      "8       9    dhruv  9012345678      M          Zoology     92\n",
      "9      10       DJ  0123456789      F     Neuroscience     98\n"
     ]
    }
   ],
   "source": [
    "# 3. Display all records whose marks are greater than 50\n",
    "marks_50 = student[student['Score'] > 85]\n",
    "print(\"students whose have marks greater than 85\")\n",
    "print(marks_50)"
   ]
  },
  {
   "cell_type": "code",
   "execution_count": 14,
   "id": "d0a0e22d",
   "metadata": {},
   "outputs": [
    {
     "name": "stdout",
     "output_type": "stream",
     "text": [
      "student info with specific course 'Neuroscience'\n",
      "   Rollno Name   ContactNo Gender        Course  Score\n",
      "9      10   DJ  0123456789      F  Neuroscience     98\n"
     ]
    }
   ],
   "source": [
    "# 4. Display the records with a specific course name (neuroscience)\n",
    "specific_course=student[student[\"Course\"]==\"Neuroscience\"]\n",
    "print(\"student info with specific course 'Neuroscience'\")\n",
    "print(specific_course)"
   ]
  },
  {
   "cell_type": "code",
   "execution_count": 15,
   "id": "6eb2b0dd",
   "metadata": {},
   "outputs": [
    {
     "name": "stdout",
     "output_type": "stream",
     "text": [
      "Male student::\n",
      "   Rollno     Name   ContactNo Gender           Course  Score\n",
      "1       2      Bob  2345678901      M         Robotics     91\n",
      "3       4   Kartik  4567890123      M  Medical Science     99\n",
      "7       8  Avinash  8901234567      M       Psychology     87\n",
      "8       9    dhruv  9012345678      M          Zoology     92\n",
      "total number of male student in the data= 4\n"
     ]
    }
   ],
   "source": [
    "# 5. Display only male student records\n",
    "Male_student=student[student['Gender']==\"M\"]\n",
    "print(\"Male student::\")\n",
    "print(Male_student)\n",
    "print(\"total number of male student in the data=\",Male_student.shape[0])"
   ]
  },
  {
   "cell_type": "code",
   "execution_count": 16,
   "id": "3341a5f2",
   "metadata": {},
   "outputs": [
    {
     "name": "stdout",
     "output_type": "stream",
     "text": [
      "female student with score grater tthan 90::\n",
      "   Rollno   Name   ContactNo Gender        Course  Score\n",
      "2       3  Alena  3456789012      F      Genomics     90\n",
      "9      10     DJ  0123456789      F  Neuroscience     98\n"
     ]
    }
   ],
   "source": [
    "# 6. Display all the students whose gender is \"Female\" and marks greater than or equalto 90\n",
    "female_student=student[(student['Gender']=='F')&(student['Score']>=90)]\n",
    "print(\"female student with score grater tthan 90::\")\n",
    "print(female_student)"
   ]
  },
  {
   "cell_type": "markdown",
   "id": "db0f31af",
   "metadata": {},
   "source": [
    "Q.III Create a dataframe using list:\n",
    "\n",
    "List1 is having names of employees\n",
    "\n",
    "List 2 is having salaries of employees.\n"
   ]
  },
  {
   "cell_type": "code",
   "execution_count": 18,
   "id": "980a0269",
   "metadata": {},
   "outputs": [
    {
     "data": {
      "text/html": [
       "<div>\n",
       "<style scoped>\n",
       "    .dataframe tbody tr th:only-of-type {\n",
       "        vertical-align: middle;\n",
       "    }\n",
       "\n",
       "    .dataframe tbody tr th {\n",
       "        vertical-align: top;\n",
       "    }\n",
       "\n",
       "    .dataframe thead th {\n",
       "        text-align: right;\n",
       "    }\n",
       "</style>\n",
       "<table border=\"1\" class=\"dataframe\">\n",
       "  <thead>\n",
       "    <tr style=\"text-align: right;\">\n",
       "      <th></th>\n",
       "      <th>Employe</th>\n",
       "      <th>Salary</th>\n",
       "    </tr>\n",
       "  </thead>\n",
       "  <tbody>\n",
       "    <tr>\n",
       "      <th>0</th>\n",
       "      <td>Alena</td>\n",
       "      <td>70000</td>\n",
       "    </tr>\n",
       "    <tr>\n",
       "      <th>1</th>\n",
       "      <td>Kartik</td>\n",
       "      <td>80000</td>\n",
       "    </tr>\n",
       "    <tr>\n",
       "      <th>2</th>\n",
       "      <td>Ankita</td>\n",
       "      <td>75000</td>\n",
       "    </tr>\n",
       "    <tr>\n",
       "      <th>3</th>\n",
       "      <td>Eikta</td>\n",
       "      <td>90000</td>\n",
       "    </tr>\n",
       "    <tr>\n",
       "      <th>4</th>\n",
       "      <td>Akruti</td>\n",
       "      <td>85000</td>\n",
       "    </tr>\n",
       "    <tr>\n",
       "      <th>5</th>\n",
       "      <td>Avinash</td>\n",
       "      <td>90000</td>\n",
       "    </tr>\n",
       "    <tr>\n",
       "      <th>6</th>\n",
       "      <td>Dhruv</td>\n",
       "      <td>87000</td>\n",
       "    </tr>\n",
       "    <tr>\n",
       "      <th>7</th>\n",
       "      <td>DJ</td>\n",
       "      <td>98000</td>\n",
       "    </tr>\n",
       "    <tr>\n",
       "      <th>8</th>\n",
       "      <td>Abhay</td>\n",
       "      <td>83000</td>\n",
       "    </tr>\n",
       "    <tr>\n",
       "      <th>9</th>\n",
       "      <td>Sidharth</td>\n",
       "      <td>86000</td>\n",
       "    </tr>\n",
       "    <tr>\n",
       "      <th>10</th>\n",
       "      <td>NaN</td>\n",
       "      <td>82000</td>\n",
       "    </tr>\n",
       "    <tr>\n",
       "      <th>11</th>\n",
       "      <td>NaN</td>\n",
       "      <td>78000</td>\n",
       "    </tr>\n",
       "    <tr>\n",
       "      <th>12</th>\n",
       "      <td>NaN</td>\n",
       "      <td>91000</td>\n",
       "    </tr>\n",
       "  </tbody>\n",
       "</table>\n",
       "</div>"
      ],
      "text/plain": [
       "     Employe  Salary\n",
       "0      Alena   70000\n",
       "1     Kartik   80000\n",
       "2     Ankita   75000\n",
       "3      Eikta   90000\n",
       "4     Akruti   85000\n",
       "5    Avinash   90000\n",
       "6      Dhruv   87000\n",
       "7         DJ   98000\n",
       "8      Abhay   83000\n",
       "9   Sidharth   86000\n",
       "10       NaN   82000\n",
       "11       NaN   78000\n",
       "12       NaN   91000"
      ]
     },
     "execution_count": 18,
     "metadata": {},
     "output_type": "execute_result"
    }
   ],
   "source": [
    "names = [ 'Alena', 'Kartik', 'Ankita', 'Eikta', 'Akruti', 'Avinash', 'Dhruv', 'DJ',\"Abhay\",'Sidharth','N/A',\"N/A\",\"N/A\"]\n",
    "salary= [70000, 80000, 75000, 90000, 85000,90000,87000,98000,83000,86000,82000,78000,91000]\n",
    "\n",
    "df=pd.DataFrame({'Employe':names,\n",
    "                 'Salary':salary})\n",
    "df.replace('N/A',np.NaN,inplace=True)\n",
    "#1.Display all the employees\n",
    "df"
   ]
  },
  {
   "cell_type": "code",
   "execution_count": 19,
   "id": "f7d94bc7",
   "metadata": {},
   "outputs": [
    {
     "data": {
      "text/html": [
       "<div>\n",
       "<style scoped>\n",
       "    .dataframe tbody tr th:only-of-type {\n",
       "        vertical-align: middle;\n",
       "    }\n",
       "\n",
       "    .dataframe tbody tr th {\n",
       "        vertical-align: top;\n",
       "    }\n",
       "\n",
       "    .dataframe thead th {\n",
       "        text-align: right;\n",
       "    }\n",
       "</style>\n",
       "<table border=\"1\" class=\"dataframe\">\n",
       "  <thead>\n",
       "    <tr style=\"text-align: right;\">\n",
       "      <th></th>\n",
       "      <th>Employe</th>\n",
       "      <th>Salary</th>\n",
       "    </tr>\n",
       "  </thead>\n",
       "  <tbody>\n",
       "    <tr>\n",
       "      <th>0</th>\n",
       "      <td>False</td>\n",
       "      <td>False</td>\n",
       "    </tr>\n",
       "    <tr>\n",
       "      <th>1</th>\n",
       "      <td>False</td>\n",
       "      <td>False</td>\n",
       "    </tr>\n",
       "    <tr>\n",
       "      <th>2</th>\n",
       "      <td>False</td>\n",
       "      <td>False</td>\n",
       "    </tr>\n",
       "    <tr>\n",
       "      <th>3</th>\n",
       "      <td>False</td>\n",
       "      <td>False</td>\n",
       "    </tr>\n",
       "    <tr>\n",
       "      <th>4</th>\n",
       "      <td>False</td>\n",
       "      <td>False</td>\n",
       "    </tr>\n",
       "    <tr>\n",
       "      <th>5</th>\n",
       "      <td>False</td>\n",
       "      <td>False</td>\n",
       "    </tr>\n",
       "    <tr>\n",
       "      <th>6</th>\n",
       "      <td>False</td>\n",
       "      <td>False</td>\n",
       "    </tr>\n",
       "    <tr>\n",
       "      <th>7</th>\n",
       "      <td>False</td>\n",
       "      <td>False</td>\n",
       "    </tr>\n",
       "    <tr>\n",
       "      <th>8</th>\n",
       "      <td>False</td>\n",
       "      <td>False</td>\n",
       "    </tr>\n",
       "    <tr>\n",
       "      <th>9</th>\n",
       "      <td>False</td>\n",
       "      <td>False</td>\n",
       "    </tr>\n",
       "    <tr>\n",
       "      <th>10</th>\n",
       "      <td>True</td>\n",
       "      <td>False</td>\n",
       "    </tr>\n",
       "    <tr>\n",
       "      <th>11</th>\n",
       "      <td>True</td>\n",
       "      <td>False</td>\n",
       "    </tr>\n",
       "    <tr>\n",
       "      <th>12</th>\n",
       "      <td>True</td>\n",
       "      <td>False</td>\n",
       "    </tr>\n",
       "  </tbody>\n",
       "</table>\n",
       "</div>"
      ],
      "text/plain": [
       "    Employe  Salary\n",
       "0     False   False\n",
       "1     False   False\n",
       "2     False   False\n",
       "3     False   False\n",
       "4     False   False\n",
       "5     False   False\n",
       "6     False   False\n",
       "7     False   False\n",
       "8     False   False\n",
       "9     False   False\n",
       "10     True   False\n",
       "11     True   False\n",
       "12     True   False"
      ]
     },
     "execution_count": 19,
     "metadata": {},
     "output_type": "execute_result"
    }
   ],
   "source": [
    "#2. Clean the dataset\n",
    "df.isna()\n"
   ]
  },
  {
   "cell_type": "code",
   "execution_count": 20,
   "id": "3f489d0a",
   "metadata": {},
   "outputs": [
    {
     "data": {
      "text/plain": [
       "Employe    3\n",
       "Salary     0\n",
       "dtype: int64"
      ]
     },
     "execution_count": 20,
     "metadata": {},
     "output_type": "execute_result"
    }
   ],
   "source": [
    "df.isna().sum()"
   ]
  },
  {
   "cell_type": "code",
   "execution_count": 21,
   "id": "03320424",
   "metadata": {},
   "outputs": [
    {
     "name": "stdout",
     "output_type": "stream",
     "text": [
      "    Employe  Salary\n",
      "0     Alena   70000\n",
      "1    Kartik   80000\n",
      "2    Ankita   75000\n",
      "3     Eikta   90000\n",
      "4    Akruti   85000\n",
      "5   Avinash   90000\n",
      "6     Dhruv   87000\n",
      "7        DJ   98000\n",
      "8     Abhay   83000\n",
      "9  Sidharth   86000\n"
     ]
    }
   ],
   "source": [
    "df.dropna(inplace=True)\n",
    "print(df)"
   ]
  },
  {
   "cell_type": "code",
   "execution_count": 22,
   "id": "4ad57251",
   "metadata": {},
   "outputs": [
    {
     "name": "stdout",
     "output_type": "stream",
     "text": [
      "sorted names:\n",
      "    Employe  Salary\n",
      "8     Abhay   83000\n",
      "4    Akruti   85000\n",
      "0     Alena   70000\n",
      "2    Ankita   75000\n",
      "5   Avinash   90000\n",
      "7        DJ   98000\n",
      "6     Dhruv   87000\n",
      "3     Eikta   90000\n",
      "1    Kartik   80000\n",
      "9  Sidharth   86000\n"
     ]
    }
   ],
   "source": [
    "# 3.. Sort all the records on the basis of names\n",
    "sorted_names = df.sort_values(by=\"Employe\")\n",
    "print(\"sorted names:\")\n",
    "print(sorted_names)\n"
   ]
  },
  {
   "cell_type": "code",
   "execution_count": 23,
   "id": "5fcd7417",
   "metadata": {},
   "outputs": [
    {
     "name": "stdout",
     "output_type": "stream",
     "text": [
      " sorted Salary:\n",
      "    Employe  Salary\n",
      "0     Alena   70000\n",
      "2    Ankita   75000\n",
      "1    Kartik   80000\n",
      "8     Abhay   83000\n",
      "4    Akruti   85000\n",
      "9  Sidharth   86000\n",
      "6     Dhruv   87000\n",
      "3     Eikta   90000\n",
      "5   Avinash   90000\n",
      "7        DJ   98000\n"
     ]
    }
   ],
   "source": [
    "# 4.Sort all the records on the basis of salaries\n",
    "sorted_salary = df.sort_values(by=\"Salary\")\n",
    "print(\" sorted Salary:\")\n",
    "print(sorted_salary)"
   ]
  },
  {
   "cell_type": "code",
   "execution_count": 30,
   "id": "89112b6e",
   "metadata": {},
   "outputs": [
    {
     "name": "stdout",
     "output_type": "stream",
     "text": [
      "highest salary:\n",
      "Employe       DJ\n",
      "Salary     98000\n",
      "Name: 7, dtype: object\n"
     ]
    }
   ],
   "source": [
    "# 5.Display the record of employee having highest salary\n",
    "highest_salary = df.loc[df['Salary'].idxmax()]\n",
    "print(\"highest salary:\")\n",
    "print(highest_salary)"
   ]
  },
  {
   "cell_type": "code",
   "execution_count": 25,
   "id": "c5518ef9",
   "metadata": {},
   "outputs": [
    {
     "name": "stdout",
     "output_type": "stream",
     "text": [
      "   Employe  Salary\n",
      "7       DJ   98000\n",
      "3    Eikta   90000\n",
      "5  Avinash   90000\n"
     ]
    }
   ],
   "source": [
    "# Sort the DataFrame by 'Salary' in descending order and get the top 3 records\n",
    "top_3= df.sort_values(by='Salary', ascending=False).head(3)\n",
    "\n",
    "# Display the top 3 records\n",
    "print(top_3)\n"
   ]
  },
  {
   "cell_type": "code",
   "execution_count": 28,
   "id": "f1a0aaf8",
   "metadata": {},
   "outputs": [
    {
     "name": "stdout",
     "output_type": "stream",
     "text": [
      "  Employe  Salary\n",
      "0   Alena   70000\n",
      "2  Ankita   75000\n",
      "1  Kartik   80000\n"
     ]
    }
   ],
   "source": [
    "# top 3 records with low salary\n",
    "top_3= df.sort_values(by='Salary', ascending=True).head(3)\n",
    "\n",
    "# Display the top 3 records\n",
    "print(top_3)\n"
   ]
  },
  {
   "cell_type": "code",
   "execution_count": null,
   "id": "5dd53b39",
   "metadata": {},
   "outputs": [],
   "source": []
  }
 ],
 "metadata": {
  "kernelspec": {
   "display_name": "Python 3 (ipykernel)",
   "language": "python",
   "name": "python3"
  },
  "language_info": {
   "codemirror_mode": {
    "name": "ipython",
    "version": 3
   },
   "file_extension": ".py",
   "mimetype": "text/x-python",
   "name": "python",
   "nbconvert_exporter": "python",
   "pygments_lexer": "ipython3",
   "version": "3.11.1"
  }
 },
 "nbformat": 4,
 "nbformat_minor": 5
}
