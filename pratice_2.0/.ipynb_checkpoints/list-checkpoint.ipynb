{
 "cells": [
  {
   "cell_type": "code",
   "execution_count": 20,
   "id": "e85c05a4",
   "metadata": {},
   "outputs": [
    {
     "name": "stdout",
     "output_type": "stream",
     "text": [
      "[1, 2, 3, 'banana', 5, 6]\n",
      "['banana']\n",
      "[1, 2, 3, 'banana', 5, 6, 'pineapple']\n"
     ]
    }
   ],
   "source": [
    "my_list=[1,2,3,4,5,6]\n",
    "\n",
    "my_list[3]=\"banana\"\n",
    "print(my_list)\n",
    "a=my_list[3:4]\n",
    "print(a)\n",
    "add=my_list.append(\"pineapple\")\n",
    "print(my_list)\n"
   ]
  },
  {
   "cell_type": "code",
   "execution_count": null,
   "id": "03da1c24",
   "metadata": {},
   "outputs": [],
   "source": [
    "Q1 you have a list responses containing responses from a survey however some responses are recorded as empty string  due to data entry errors \n",
    "task is to remove the empty spaces from the list \n",
    "\n",
    "responses=['y','','n','','','n','y','','','y','y']"
   ]
  },
  {
   "cell_type": "code",
   "execution_count": 24,
   "id": "8fdd1c2b",
   "metadata": {},
   "outputs": [
    {
     "name": "stdout",
     "output_type": "stream",
     "text": [
      "['y', 'n', 'n', 'y', 'y', 'y']\n"
     ]
    }
   ],
   "source": [
    "responses=['y','','n','','','n','y','','','y','y']\n",
    "clean=[]\n",
    "for r in responses:\n",
    "    if r!='':\n",
    "        clean.append(r)\n",
    "print(clean)"
   ]
  },
  {
   "cell_type": "code",
   "execution_count": 25,
   "id": "636865e0",
   "metadata": {},
   "outputs": [
    {
     "name": "stdout",
     "output_type": "stream",
     "text": [
      "[1, 2, 3, 4, [5, 6]]\n"
     ]
    }
   ],
   "source": [
    "num=[1,2,3,4]\n",
    "num.append([5,6])\n",
    "print(num)"
   ]
  }
 ],
 "metadata": {
  "kernelspec": {
   "display_name": "Python 3 (ipykernel)",
   "language": "python",
   "name": "python3"
  },
  "language_info": {
   "codemirror_mode": {
    "name": "ipython",
    "version": 3
   },
   "file_extension": ".py",
   "mimetype": "text/x-python",
   "name": "python",
   "nbconvert_exporter": "python",
   "pygments_lexer": "ipython3",
   "version": "3.11.1"
  }
 },
 "nbformat": 4,
 "nbformat_minor": 5
}
