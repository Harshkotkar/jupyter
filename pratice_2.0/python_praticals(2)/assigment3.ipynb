{
 "cells": [
  {
   "cell_type": "markdown",
   "id": "84083874",
   "metadata": {},
   "source": [
    "# Assigment 3"
   ]
  },
  {
   "cell_type": "code",
   "execution_count": 36,
   "id": "418d41e8",
   "metadata": {},
   "outputs": [],
   "source": [
    "import pandas as pd\n",
    "import numpy as np\n",
    "import matplotlib.pyplot as plt\n",
    "import seaborn as sns\n",
    "import warnings \n",
    "warnings.filterwarnings(\"ignore\")"
   ]
  },
  {
   "cell_type": "code",
   "execution_count": 2,
   "id": "7570167b",
   "metadata": {
    "scrolled": false
   },
   "outputs": [
    {
     "data": {
      "text/html": [
       "<div>\n",
       "<style scoped>\n",
       "    .dataframe tbody tr th:only-of-type {\n",
       "        vertical-align: middle;\n",
       "    }\n",
       "\n",
       "    .dataframe tbody tr th {\n",
       "        vertical-align: top;\n",
       "    }\n",
       "\n",
       "    .dataframe thead th {\n",
       "        text-align: right;\n",
       "    }\n",
       "</style>\n",
       "<table border=\"1\" class=\"dataframe\">\n",
       "  <thead>\n",
       "    <tr style=\"text-align: right;\">\n",
       "      <th></th>\n",
       "      <th>age</th>\n",
       "      <th>workclass</th>\n",
       "      <th>fnlwgt</th>\n",
       "      <th>education</th>\n",
       "      <th>educational-num</th>\n",
       "      <th>marital-status</th>\n",
       "      <th>occupation</th>\n",
       "      <th>relationship</th>\n",
       "      <th>race</th>\n",
       "      <th>gender</th>\n",
       "      <th>capital-gain</th>\n",
       "      <th>capital-loss</th>\n",
       "      <th>hours-per-week</th>\n",
       "      <th>native-country</th>\n",
       "      <th>income</th>\n",
       "    </tr>\n",
       "  </thead>\n",
       "  <tbody>\n",
       "    <tr>\n",
       "      <th>0</th>\n",
       "      <td>25</td>\n",
       "      <td>Private</td>\n",
       "      <td>226802</td>\n",
       "      <td>11th</td>\n",
       "      <td>7</td>\n",
       "      <td>Never-married</td>\n",
       "      <td>Machine-op-inspct</td>\n",
       "      <td>Own-child</td>\n",
       "      <td>Black</td>\n",
       "      <td>Male</td>\n",
       "      <td>0</td>\n",
       "      <td>0</td>\n",
       "      <td>40</td>\n",
       "      <td>United-States</td>\n",
       "      <td>&lt;=50K</td>\n",
       "    </tr>\n",
       "    <tr>\n",
       "      <th>1</th>\n",
       "      <td>38</td>\n",
       "      <td>Private</td>\n",
       "      <td>89814</td>\n",
       "      <td>HS-grad</td>\n",
       "      <td>9</td>\n",
       "      <td>Married-civ-spouse</td>\n",
       "      <td>Farming-fishing</td>\n",
       "      <td>Husband</td>\n",
       "      <td>White</td>\n",
       "      <td>Male</td>\n",
       "      <td>0</td>\n",
       "      <td>0</td>\n",
       "      <td>50</td>\n",
       "      <td>United-States</td>\n",
       "      <td>&lt;=50K</td>\n",
       "    </tr>\n",
       "    <tr>\n",
       "      <th>2</th>\n",
       "      <td>28</td>\n",
       "      <td>Local-gov</td>\n",
       "      <td>336951</td>\n",
       "      <td>Assoc-acdm</td>\n",
       "      <td>12</td>\n",
       "      <td>Married-civ-spouse</td>\n",
       "      <td>Protective-serv</td>\n",
       "      <td>Husband</td>\n",
       "      <td>White</td>\n",
       "      <td>Male</td>\n",
       "      <td>0</td>\n",
       "      <td>0</td>\n",
       "      <td>40</td>\n",
       "      <td>United-States</td>\n",
       "      <td>&gt;50K</td>\n",
       "    </tr>\n",
       "    <tr>\n",
       "      <th>3</th>\n",
       "      <td>44</td>\n",
       "      <td>Private</td>\n",
       "      <td>160323</td>\n",
       "      <td>Some-college</td>\n",
       "      <td>10</td>\n",
       "      <td>Married-civ-spouse</td>\n",
       "      <td>Machine-op-inspct</td>\n",
       "      <td>Husband</td>\n",
       "      <td>Black</td>\n",
       "      <td>Male</td>\n",
       "      <td>7688</td>\n",
       "      <td>0</td>\n",
       "      <td>40</td>\n",
       "      <td>United-States</td>\n",
       "      <td>&gt;50K</td>\n",
       "    </tr>\n",
       "    <tr>\n",
       "      <th>4</th>\n",
       "      <td>18</td>\n",
       "      <td>?</td>\n",
       "      <td>103497</td>\n",
       "      <td>Some-college</td>\n",
       "      <td>10</td>\n",
       "      <td>Never-married</td>\n",
       "      <td>?</td>\n",
       "      <td>Own-child</td>\n",
       "      <td>White</td>\n",
       "      <td>Female</td>\n",
       "      <td>0</td>\n",
       "      <td>0</td>\n",
       "      <td>30</td>\n",
       "      <td>United-States</td>\n",
       "      <td>&lt;=50K</td>\n",
       "    </tr>\n",
       "  </tbody>\n",
       "</table>\n",
       "</div>"
      ],
      "text/plain": [
       "   age  workclass  fnlwgt     education  educational-num      marital-status  \\\n",
       "0   25    Private  226802          11th                7       Never-married   \n",
       "1   38    Private   89814       HS-grad                9  Married-civ-spouse   \n",
       "2   28  Local-gov  336951    Assoc-acdm               12  Married-civ-spouse   \n",
       "3   44    Private  160323  Some-college               10  Married-civ-spouse   \n",
       "4   18          ?  103497  Some-college               10       Never-married   \n",
       "\n",
       "          occupation relationship   race  gender  capital-gain  capital-loss  \\\n",
       "0  Machine-op-inspct    Own-child  Black    Male             0             0   \n",
       "1    Farming-fishing      Husband  White    Male             0             0   \n",
       "2    Protective-serv      Husband  White    Male             0             0   \n",
       "3  Machine-op-inspct      Husband  Black    Male          7688             0   \n",
       "4                  ?    Own-child  White  Female             0             0   \n",
       "\n",
       "   hours-per-week native-country income  \n",
       "0              40  United-States  <=50K  \n",
       "1              50  United-States  <=50K  \n",
       "2              40  United-States   >50K  \n",
       "3              40  United-States   >50K  \n",
       "4              30  United-States  <=50K  "
      ]
     },
     "execution_count": 2,
     "metadata": {},
     "output_type": "execute_result"
    }
   ],
   "source": [
    "df=pd.read_csv(\"adult.csv\")\n",
    "df.head()"
   ]
  },
  {
   "cell_type": "code",
   "execution_count": 3,
   "id": "931610bc",
   "metadata": {},
   "outputs": [
    {
     "data": {
      "text/plain": [
       "(48842, 15)"
      ]
     },
     "execution_count": 3,
     "metadata": {},
     "output_type": "execute_result"
    }
   ],
   "source": [
    "#1. Shape of dataset\n",
    "df.shape "
   ]
  },
  {
   "cell_type": "code",
   "execution_count": 4,
   "id": "4ddee369",
   "metadata": {},
   "outputs": [
    {
     "data": {
      "text/plain": [
       "Index(['age', 'workclass', 'fnlwgt', 'education', 'educational-num',\n",
       "       'marital-status', 'occupation', 'relationship', 'race', 'gender',\n",
       "       'capital-gain', 'capital-loss', 'hours-per-week', 'native-country',\n",
       "       'income'],\n",
       "      dtype='object')"
      ]
     },
     "execution_count": 4,
     "metadata": {},
     "output_type": "execute_result"
    }
   ],
   "source": [
    "#2. Print column names\n",
    "df.columns"
   ]
  },
  {
   "cell_type": "code",
   "execution_count": 5,
   "id": "71827b89",
   "metadata": {},
   "outputs": [
    {
     "name": "stdout",
     "output_type": "stream",
     "text": [
      "Number of mens:: 32650\n",
      "Number of womens:: 16192\n"
     ]
    }
   ],
   "source": [
    "#3. How many men and women (sex feature) are represented in this dataset?\n",
    "count=df['gender'].value_counts()\n",
    "print(\"Number of mens::\",count['Male'])\n",
    "print(\"Number of womens::\",count['Female'])"
   ]
  },
  {
   "cell_type": "code",
   "execution_count": 6,
   "id": "99bb2497",
   "metadata": {},
   "outputs": [
    {
     "name": "stdout",
     "output_type": "stream",
     "text": [
      "avg age of women:: 37\n"
     ]
    }
   ],
   "source": [
    "#4. What is the average age (age feature) of women?\n",
    "avg_age=df[df['gender']=='Female']['age'].mean()\n",
    "print(\"avg age of women::\",round(avg_age))"
   ]
  },
  {
   "cell_type": "code",
   "execution_count": 7,
   "id": "c6ac260b",
   "metadata": {},
   "outputs": [
    {
     "data": {
      "text/plain": [
       "array(['United-States', '?', 'Peru', 'Guatemala', 'Mexico',\n",
       "       'Dominican-Republic', 'Ireland', 'Germany', 'Philippines',\n",
       "       'Thailand', 'Haiti', 'El-Salvador', 'Puerto-Rico', 'Vietnam',\n",
       "       'South', 'Columbia', 'Japan', 'India', 'Cambodia', 'Poland',\n",
       "       'Laos', 'England', 'Cuba', 'Taiwan', 'Italy', 'Canada', 'Portugal',\n",
       "       'China', 'Nicaragua', 'Honduras', 'Iran', 'Scotland', 'Jamaica',\n",
       "       'Ecuador', 'Yugoslavia', 'Hungary', 'Hong', 'Greece',\n",
       "       'Trinadad&Tobago', 'Outlying-US(Guam-USVI-etc)', 'France',\n",
       "       'Holand-Netherlands'], dtype=object)"
      ]
     },
     "execution_count": 7,
     "metadata": {},
     "output_type": "execute_result"
    }
   ],
   "source": [
    "df['native-country'].unique()"
   ]
  },
  {
   "cell_type": "code",
   "execution_count": 8,
   "id": "0573b794",
   "metadata": {
    "scrolled": true
   },
   "outputs": [
    {
     "name": "stdout",
     "output_type": "stream",
     "text": [
      "percentage count of german citizens:: 0.422\n"
     ]
    }
   ],
   "source": [
    "#5. What is the percentage of German citizens (native-country feature)?\n",
    "germany=df[df['native-country']=='Germany']\n",
    "german_cnt=germany['native-country'].count()\n",
    "percentage=(german_cnt/len(df))*100\n",
    "print(\"percentage count of german citizens::\",round(percentage,3))"
   ]
  },
  {
   "cell_type": "code",
   "execution_count": 9,
   "id": "0f178f2f",
   "metadata": {},
   "outputs": [
    {
     "name": "stdout",
     "output_type": "stream",
     "text": [
      "mean for salary more than 50K 44.275\n",
      "std for salary more than 50K 10.559\n",
      "mean for salary less than 50k 36.872\n",
      "std for salary less than 50k 14.104\n"
     ]
    }
   ],
   "source": [
    "# 6. What are the mean and standard deviation of age for those who earn more than 50K per year (salary feature)\n",
    "# and those who eam less than 50K per year.\n",
    "more_than_50k=df[df['income']==\">50K\"]['age']\n",
    "less_than_50k=df[df['income']==\"<=50K\"]['age']\n",
    "mean_1=more_than_50k.mean()\n",
    "std_1=more_than_50k.std()\n",
    "\n",
    "mean_2=less_than_50k.mean()\n",
    "std_2=less_than_50k.std()\n",
    "print('mean for salary more than 50K',round(mean_1,3))\n",
    "print('std for salary more than 50K',round(std_1,3))\n",
    "\n",
    "print(\"mean for salary less than 50k\",round(mean_2,3))\n",
    "print(\"std for salary less than 50k\",round(std_2,3))\n"
   ]
  },
  {
   "cell_type": "code",
   "execution_count": 10,
   "id": "3e2c1981",
   "metadata": {},
   "outputs": [
    {
     "data": {
      "text/plain": [
       "array(['11th', 'HS-grad', 'Assoc-acdm', 'Some-college', '10th',\n",
       "       'Prof-school', '7th-8th', 'Bachelors', 'Masters', 'Doctorate',\n",
       "       '5th-6th', 'Assoc-voc', '9th', '12th', '1st-4th', 'Preschool'],\n",
       "      dtype=object)"
      ]
     },
     "execution_count": 10,
     "metadata": {},
     "output_type": "execute_result"
    }
   ],
   "source": [
    "df['education'].unique()"
   ]
  },
  {
   "cell_type": "code",
   "execution_count": 11,
   "id": "d3d9d287",
   "metadata": {},
   "outputs": [
    {
     "name": "stdout",
     "output_type": "stream",
     "text": [
      "percentage of people who has income mre than 50k:: 75.45 %\n",
      "in the data around 75.45% people who earn more than 50K has at least completed there higher education \n"
     ]
    }
   ],
   "source": [
    "# 7. that people who earn more than 50K have at least high school education?\n",
    "# (edicaton-Bachelors, Prof-school Love-an, Anse-soc, Masters or Doctorate feature)\n",
    "edu=[\"Bachelors\", \"Prof-school\", \"Some-college\", \"Masters\", \"Doctorate\", \"Assoc-acdm\", \"Assoc-voc\"]\n",
    "higher_edu=edu = df[df['income'] == '>50K']['education'].isin(edu).mean()\n",
    "print(\"percentage of people who has income mre than 50k::\",round(higher_edu*100,2),\"%\") \n",
    "print(\"in the data around 75.45% people who earn more than 50K has at least completed there higher education \")"
   ]
  },
  {
   "cell_type": "code",
   "execution_count": 12,
   "id": "0386a62c",
   "metadata": {},
   "outputs": [],
   "source": [
    "edu = df[df['income'] == '>50K']['education']\n"
   ]
  },
  {
   "cell_type": "code",
   "execution_count": 13,
   "id": "55d9f11b",
   "metadata": {
    "scrolled": true
   },
   "outputs": [
    {
     "name": "stdout",
     "output_type": "stream",
     "text": [
      "                             count       mean        std   min   25%   50%  \\\n",
      "race               gender                                                    \n",
      "Amer-Indian-Eskimo Female    185.0  36.237838  12.840056  17.0  26.0  35.0   \n",
      "                   Male      285.0  36.989474  11.703943  17.0  29.0  35.0   \n",
      "Asian-Pac-Islander Female    517.0  35.657640  12.637799  17.0  25.0  34.0   \n",
      "                   Male     1002.0  38.994012  12.824878  18.0  29.0  37.0   \n",
      "Black              Female   2308.0  37.905979  12.736001  17.0  28.0  36.0   \n",
      "                   Male     2377.0  37.922592  13.036981  17.0  28.0  36.0   \n",
      "Other              Female    155.0  31.212903  11.233061  17.0  23.0  29.0   \n",
      "                   Male      251.0  35.167331  11.808297  17.0  26.0  32.0   \n",
      "White              Female  13027.0  36.882935  14.454178  17.0  25.0  35.0   \n",
      "                   Male    28735.0  39.704507  13.475250  17.0  29.0  38.0   \n",
      "\n",
      "                            75%   max  \n",
      "race               gender              \n",
      "Amer-Indian-Eskimo Female  46.0  80.0  \n",
      "                   Male    44.0  82.0  \n",
      "Asian-Pac-Islander Female  44.0  81.0  \n",
      "                   Male    46.0  90.0  \n",
      "Black              Female  46.0  90.0  \n",
      "                   Male    46.0  90.0  \n",
      "Other              Female  37.0  74.0  \n",
      "                   Male    42.5  77.0  \n",
      "White              Female  47.0  90.0  \n",
      "                   Male    49.0  90.0  \n",
      "Maximum age of Amer-Indian-Eskimo men: 82\n"
     ]
    }
   ],
   "source": [
    "# 8. Display age statistics for each race (race feature) and each gender (sex feature). Use groupby() and describe().\n",
    "# Find the maximum age of men of Amer Inhan Eskimo race.\n",
    "age_stats = df.groupby([\"race\", \"gender\"])[\"age\"].describe()\n",
    "print(age_stats)\n",
    "\n",
    "max_age = df[(df[\"race\"] == \"Amer-Indian-Eskimo\") & (df[\"gender\"] == \"Male\")][\"age\"].max()\n",
    "print(\"Maximum age of Amer-Indian-Eskimo men:\", max_age)\n"
   ]
  },
  {
   "cell_type": "code",
   "execution_count": 14,
   "id": "6f73abd8",
   "metadata": {},
   "outputs": [
    {
     "name": "stdout",
     "output_type": "stream",
     "text": [
      "married_high_earners:: 0.441\n",
      "single_high_earners:: 0.081\n"
     ]
    }
   ],
   "source": [
    "# 9. Amang whom is the proportion of these who earn a lot (>50K) greater married or single men (marital-status feature)? \n",
    "# Consider as married those who have a marital-status starting with Maried (Married civ-spouse, Married-spouse-absent or Maried-AF-spouse), the rest are considered bachelors.\n",
    "\n",
    "df[\"marital-status\"] = df[\"marital-status\"].apply(lambda x: \"Married\" if x.startswith(\"Married\") else \"Single\")\n",
    "\n",
    "married_high_earners = df[(df[\"marital-status\"] == \"Married\") & (df[\"gender\"] == \"Male\")][\"income\"].eq(\">50K\").mean()\n",
    "single_high_earners = df[(df[\"marital-status\"] == \"Single\") & (df[\"gender\"] == \"Male\")][\"income\"].eq(\">50K\").mean()\n",
    "print(\"married_high_earners::\",round(married_high_earners,3))\n",
    "print(\"single_high_earners::\",round(single_high_earners,3))"
   ]
  },
  {
   "cell_type": "code",
   "execution_count": 15,
   "id": "6833603e",
   "metadata": {},
   "outputs": [
    {
     "name": "stdout",
     "output_type": "stream",
     "text": [
      "Maximum hours per week worked: 99\n",
      "Number of people working max hours: 137\n",
      "Percentage of more than 50K earners among them : 29.93 %\n"
     ]
    }
   ],
   "source": [
    "# 10. What is the maximun nanber of hours a person works per work (hars per-wool feature)? How many people work such a number of hours,\n",
    "# and what is the percentage of those who carn a lot (>50K) among them\n",
    "max_hours = df[\"hours-per-week\"].max()\n",
    "people_max = (df[\"hours-per-week\"] == max_hours).sum()\n",
    "high_earners= df[(df[\"hours-per-week\"] == max_hours) & (df[\"income\"] == \">50K\")].shape[0]\n",
    "percentage = (high_earners / people_max) * 100\n",
    "\n",
    "print(\"Maximum hours per week worked:\", max_hours)\n",
    "print(\"Number of people working max hours:\", people_max)\n",
    "print(\"Percentage of more than 50K earners among them :\", round(percentage, 2), \"%\")"
   ]
  },
  {
   "cell_type": "markdown",
   "id": "8629e7eb",
   "metadata": {},
   "source": [
    "# Pandas part 2\n"
   ]
  },
  {
   "cell_type": "markdown",
   "id": "dfc52a36",
   "metadata": {},
   "source": [
    "Dataset : College Placement Data\n"
   ]
  },
  {
   "cell_type": "code",
   "execution_count": 86,
   "id": "3cc19fd8",
   "metadata": {},
   "outputs": [
    {
     "data": {
      "text/html": [
       "<div>\n",
       "<style scoped>\n",
       "    .dataframe tbody tr th:only-of-type {\n",
       "        vertical-align: middle;\n",
       "    }\n",
       "\n",
       "    .dataframe tbody tr th {\n",
       "        vertical-align: top;\n",
       "    }\n",
       "\n",
       "    .dataframe thead th {\n",
       "        text-align: right;\n",
       "    }\n",
       "</style>\n",
       "<table border=\"1\" class=\"dataframe\">\n",
       "  <thead>\n",
       "    <tr style=\"text-align: right;\">\n",
       "      <th></th>\n",
       "      <th>student_id</th>\n",
       "      <th>name</th>\n",
       "      <th>gender</th>\n",
       "      <th>age</th>\n",
       "      <th>city</th>\n",
       "      <th>degree</th>\n",
       "      <th>cgpa</th>\n",
       "      <th>university</th>\n",
       "      <th>company</th>\n",
       "      <th>package</th>\n",
       "      <th>status</th>\n",
       "    </tr>\n",
       "  </thead>\n",
       "  <tbody>\n",
       "    <tr>\n",
       "      <th>0</th>\n",
       "      <td>101</td>\n",
       "      <td>Aarav Sharma</td>\n",
       "      <td>Male</td>\n",
       "      <td>22</td>\n",
       "      <td>Mumbai</td>\n",
       "      <td>B.Tech</td>\n",
       "      <td>8.5</td>\n",
       "      <td>IIT Bombay</td>\n",
       "      <td>Google</td>\n",
       "      <td>12.0</td>\n",
       "      <td>Placed</td>\n",
       "    </tr>\n",
       "    <tr>\n",
       "      <th>1</th>\n",
       "      <td>102</td>\n",
       "      <td>Neha Verma</td>\n",
       "      <td>Female</td>\n",
       "      <td>23</td>\n",
       "      <td>Delhi</td>\n",
       "      <td>MBA</td>\n",
       "      <td>7.8</td>\n",
       "      <td>IIM Bangalore</td>\n",
       "      <td>Amazon</td>\n",
       "      <td>15.0</td>\n",
       "      <td>Placed</td>\n",
       "    </tr>\n",
       "    <tr>\n",
       "      <th>2</th>\n",
       "      <td>103</td>\n",
       "      <td>Sameer Khan</td>\n",
       "      <td>Male</td>\n",
       "      <td>21</td>\n",
       "      <td>Bangalore</td>\n",
       "      <td>BCA</td>\n",
       "      <td>6.9</td>\n",
       "      <td>Christ University</td>\n",
       "      <td>Infosys</td>\n",
       "      <td>6.0</td>\n",
       "      <td>Placed</td>\n",
       "    </tr>\n",
       "    <tr>\n",
       "      <th>3</th>\n",
       "      <td>104</td>\n",
       "      <td>Priya Desai</td>\n",
       "      <td>Female</td>\n",
       "      <td>22</td>\n",
       "      <td>Pune</td>\n",
       "      <td>B.Tech</td>\n",
       "      <td>8.2</td>\n",
       "      <td>COEP</td>\n",
       "      <td>Wipro</td>\n",
       "      <td>5.5</td>\n",
       "      <td>Placed</td>\n",
       "    </tr>\n",
       "    <tr>\n",
       "      <th>4</th>\n",
       "      <td>105</td>\n",
       "      <td>Rohan Joshi</td>\n",
       "      <td>Male</td>\n",
       "      <td>24</td>\n",
       "      <td>Hyderabad</td>\n",
       "      <td>M.Tech</td>\n",
       "      <td>9.1</td>\n",
       "      <td>IIIT Hyderabad</td>\n",
       "      <td>Microsoft</td>\n",
       "      <td>18.0</td>\n",
       "      <td>Placed</td>\n",
       "    </tr>\n",
       "  </tbody>\n",
       "</table>\n",
       "</div>"
      ],
      "text/plain": [
       "   student_id          name  gender  age       city  degree  cgpa  \\\n",
       "0         101  Aarav Sharma    Male   22     Mumbai  B.Tech   8.5   \n",
       "1         102    Neha Verma  Female   23      Delhi     MBA   7.8   \n",
       "2         103   Sameer Khan    Male   21  Bangalore     BCA   6.9   \n",
       "3         104   Priya Desai  Female   22       Pune  B.Tech   8.2   \n",
       "4         105   Rohan Joshi    Male   24  Hyderabad  M.Tech   9.1   \n",
       "\n",
       "          university    company  package  status  \n",
       "0         IIT Bombay     Google     12.0  Placed  \n",
       "1      IIM Bangalore     Amazon     15.0  Placed  \n",
       "2  Christ University    Infosys      6.0  Placed  \n",
       "3               COEP      Wipro      5.5  Placed  \n",
       "4     IIIT Hyderabad  Microsoft     18.0  Placed  "
      ]
     },
     "execution_count": 86,
     "metadata": {},
     "output_type": "execute_result"
    }
   ],
   "source": [
    "# 1. Display first 10 records\n",
    "placement=pd.read_csv(\"student_placement.csv\")\n",
    "placement.head()"
   ]
  },
  {
   "cell_type": "code",
   "execution_count": 88,
   "id": "995eb422",
   "metadata": {},
   "outputs": [
    {
     "data": {
      "text/plain": [
       "Index(['student_id', 'name', 'gender', 'age', 'city', 'degree', 'cgpa',\n",
       "       'university', 'company', 'package', 'status'],\n",
       "      dtype='object')"
      ]
     },
     "execution_count": 88,
     "metadata": {},
     "output_type": "execute_result"
    }
   ],
   "source": [
    "#2. display all columns in it\n",
    "placement.columns"
   ]
  },
  {
   "cell_type": "code",
   "execution_count": 91,
   "id": "5d02191c",
   "metadata": {},
   "outputs": [
    {
     "name": "stdout",
     "output_type": "stream",
     "text": [
      "       student_id        age       cgpa    package\n",
      "count    50.00000  50.000000  50.000000  50.000000\n",
      "mean    125.50000  22.440000   7.534000   8.042000\n",
      "std      14.57738   1.052887   0.962694   6.333748\n",
      "min     101.00000  21.000000   5.500000   0.000000\n",
      "25%     113.25000  22.000000   6.825000   4.500000\n",
      "50%     125.50000  22.000000   7.600000   6.000000\n",
      "75%     137.75000  23.000000   8.275000  12.375000\n",
      "max     150.00000  24.000000   9.200000  22.000000\n",
      "<class 'pandas.core.frame.DataFrame'>\n",
      "RangeIndex: 50 entries, 0 to 49\n",
      "Data columns (total 11 columns):\n",
      " #   Column      Non-Null Count  Dtype  \n",
      "---  ------      --------------  -----  \n",
      " 0   student_id  50 non-null     int64  \n",
      " 1   name        50 non-null     object \n",
      " 2   gender      50 non-null     object \n",
      " 3   age         50 non-null     int64  \n",
      " 4   city        50 non-null     object \n",
      " 5   degree      50 non-null     object \n",
      " 6   cgpa        50 non-null     float64\n",
      " 7   university  50 non-null     object \n",
      " 8   company     40 non-null     object \n",
      " 9   package     50 non-null     float64\n",
      " 10  status      50 non-null     object \n",
      "dtypes: float64(2), int64(2), object(7)\n",
      "memory usage: 4.4+ KB\n",
      "None\n"
     ]
    }
   ],
   "source": [
    "#3. Perform statistical analysis on it. \n",
    "print(placement.describe())  # Summary statistics\n",
    "print(placement.info())     \n"
   ]
  },
  {
   "cell_type": "code",
   "execution_count": 93,
   "id": "31f981fe",
   "metadata": {},
   "outputs": [
    {
     "name": "stdout",
     "output_type": "stream",
     "text": [
      "Missing values: student_id     0\n",
      "name           0\n",
      "gender         0\n",
      "age            0\n",
      "city           0\n",
      "degree         0\n",
      "cgpa           0\n",
      "university     0\n",
      "company       10\n",
      "package        0\n",
      "status         0\n",
      "dtype: int64\n",
      "Duplicate values: 0\n"
     ]
    }
   ],
   "source": [
    "#4. Check for the missing and duplicated values. \n",
    "print(\"Missing values:\", placement.isnull().sum())  \n",
    "print(\"Duplicate values:\", placement.duplicated().sum())  \n"
   ]
  },
  {
   "cell_type": "code",
   "execution_count": 103,
   "id": "6ef91638",
   "metadata": {
    "scrolled": true
   },
   "outputs": [
    {
     "name": "stdout",
     "output_type": "stream",
     "text": [
      "city\n",
      "Bangalore    7.583333\n",
      "Chennai      6.725000\n",
      "Delhi        7.600000\n",
      "Hyderabad    7.342857\n",
      "Jaipur       7.200000\n",
      "Kolkata      8.050000\n",
      "Mumbai       7.675000\n",
      "Pune         7.666667\n",
      "Name: cgpa, dtype: float64\n"
     ]
    }
   ],
   "source": [
    "#5. Display average CGPA by city. \n",
    "avg_cgpa = placement.groupby(\"city\")[\"cgpa\"].mean()\n",
    "print(avg_cgpa)\n"
   ]
  },
  {
   "cell_type": "code",
   "execution_count": 100,
   "id": "5a049056",
   "metadata": {},
   "outputs": [
    {
     "name": "stdout",
     "output_type": "stream",
     "text": [
      "city\n",
      "Bangalore    6\n",
      "Chennai      4\n",
      "Delhi        9\n",
      "Hyderabad    7\n",
      "Jaipur       4\n",
      "Kolkata      6\n",
      "Mumbai       8\n",
      "Pune         6\n",
      "Name: status, dtype: int64\n"
     ]
    }
   ],
   "source": [
    "#6. Display placement count by city\n",
    "city_placement = placement.groupby(\"city\")[\"status\"].count()\n",
    "print(city_placement)\n"
   ]
  },
  {
   "cell_type": "code",
   "execution_count": 106,
   "id": "d7e47e2e",
   "metadata": {},
   "outputs": [
    {
     "name": "stdout",
     "output_type": "stream",
     "text": [
      "City with highest CGPA: Kolkata\n"
     ]
    }
   ],
   "source": [
    "#7. Display the name of the city with the highest CGPA\n",
    "highest_cgpa = placement.loc[placement[\"cgpa\"].idxmax(), \"city\"]\n",
    "print(\"City with highest CGPA:\", highest_cgpa)\n"
   ]
  },
  {
   "cell_type": "code",
   "execution_count": 111,
   "id": "0ce9d72c",
   "metadata": {},
   "outputs": [
    {
     "name": "stdout",
     "output_type": "stream",
     "text": [
      "City with placement: ['Mumbai' 'Delhi' 'Bangalore' 'Pune' 'Hyderabad' 'Kolkata' 'Chennai'\n",
      " 'Jaipur']\n"
     ]
    }
   ],
   "source": [
    "#8. Display names of cities where placement is 1\n",
    "placed_city = placement[placement[\"status\"] == 'Placed'][\"city\"].unique()\n",
    "print(\"City with placement:\",placed_city)\n",
    "\n"
   ]
  },
  {
   "cell_type": "markdown",
   "id": "d63b8bc1",
   "metadata": {},
   "source": [
    "Pokemon DataFrame"
   ]
  },
  {
   "cell_type": "code",
   "execution_count": 16,
   "id": "738926ef",
   "metadata": {
    "scrolled": true
   },
   "outputs": [
    {
     "data": {
      "text/html": [
       "<div>\n",
       "<style scoped>\n",
       "    .dataframe tbody tr th:only-of-type {\n",
       "        vertical-align: middle;\n",
       "    }\n",
       "\n",
       "    .dataframe tbody tr th {\n",
       "        vertical-align: top;\n",
       "    }\n",
       "\n",
       "    .dataframe thead th {\n",
       "        text-align: right;\n",
       "    }\n",
       "</style>\n",
       "<table border=\"1\" class=\"dataframe\">\n",
       "  <thead>\n",
       "    <tr style=\"text-align: right;\">\n",
       "      <th></th>\n",
       "      <th>name</th>\n",
       "      <th>evolution</th>\n",
       "      <th>type</th>\n",
       "      <th>hp</th>\n",
       "      <th>pokedex</th>\n",
       "    </tr>\n",
       "  </thead>\n",
       "  <tbody>\n",
       "    <tr>\n",
       "      <th>0</th>\n",
       "      <td>Bulbasaur</td>\n",
       "      <td>Ivysaur</td>\n",
       "      <td>grass</td>\n",
       "      <td>45</td>\n",
       "      <td>yes</td>\n",
       "    </tr>\n",
       "    <tr>\n",
       "      <th>1</th>\n",
       "      <td>Charmander</td>\n",
       "      <td>Charmeleon</td>\n",
       "      <td>fire</td>\n",
       "      <td>39</td>\n",
       "      <td>no</td>\n",
       "    </tr>\n",
       "    <tr>\n",
       "      <th>2</th>\n",
       "      <td>Squirtle</td>\n",
       "      <td>Wartortle</td>\n",
       "      <td>water</td>\n",
       "      <td>44</td>\n",
       "      <td>yes</td>\n",
       "    </tr>\n",
       "    <tr>\n",
       "      <th>3</th>\n",
       "      <td>Caterpie</td>\n",
       "      <td>Metapod</td>\n",
       "      <td>bug</td>\n",
       "      <td>45</td>\n",
       "      <td>no</td>\n",
       "    </tr>\n",
       "  </tbody>\n",
       "</table>\n",
       "</div>"
      ],
      "text/plain": [
       "         name   evolution   type  hp pokedex\n",
       "0   Bulbasaur     Ivysaur  grass  45     yes\n",
       "1  Charmander  Charmeleon   fire  39      no\n",
       "2    Squirtle   Wartortle  water  44     yes\n",
       "3    Caterpie     Metapod    bug  45      no"
      ]
     },
     "execution_count": 16,
     "metadata": {},
     "output_type": "execute_result"
    }
   ],
   "source": [
    "#1. creating the pokemon DataFrame\n",
    "data={\"name\": ['Bulbasaur', 'Charmander','Squirtle','Caterpie'], \n",
    "\"evolution\": ['Ivysaur','Charmeleon','Wartortle','Metapod'], \n",
    "\"type\": ['grass', 'fire', 'water', 'bug'], \n",
    "\"hp\": [45, 39, 44, 45], \n",
    "\"pokedex\": ['yes', 'no','yes','no']}\n",
    "\n",
    "pokemon=pd.DataFrame(data)\n",
    "pokemon.head()"
   ]
  },
  {
   "cell_type": "code",
   "execution_count": 17,
   "id": "8c14801c",
   "metadata": {},
   "outputs": [
    {
     "data": {
      "text/html": [
       "<div>\n",
       "<style scoped>\n",
       "    .dataframe tbody tr th:only-of-type {\n",
       "        vertical-align: middle;\n",
       "    }\n",
       "\n",
       "    .dataframe tbody tr th {\n",
       "        vertical-align: top;\n",
       "    }\n",
       "\n",
       "    .dataframe thead th {\n",
       "        text-align: right;\n",
       "    }\n",
       "</style>\n",
       "<table border=\"1\" class=\"dataframe\">\n",
       "  <thead>\n",
       "    <tr style=\"text-align: right;\">\n",
       "      <th></th>\n",
       "      <th>name</th>\n",
       "      <th>type</th>\n",
       "      <th>hp</th>\n",
       "      <th>evolution</th>\n",
       "      <th>pokedex</th>\n",
       "    </tr>\n",
       "  </thead>\n",
       "  <tbody>\n",
       "    <tr>\n",
       "      <th>0</th>\n",
       "      <td>Bulbasaur</td>\n",
       "      <td>grass</td>\n",
       "      <td>45</td>\n",
       "      <td>Ivysaur</td>\n",
       "      <td>yes</td>\n",
       "    </tr>\n",
       "    <tr>\n",
       "      <th>1</th>\n",
       "      <td>Charmander</td>\n",
       "      <td>fire</td>\n",
       "      <td>39</td>\n",
       "      <td>Charmeleon</td>\n",
       "      <td>no</td>\n",
       "    </tr>\n",
       "    <tr>\n",
       "      <th>2</th>\n",
       "      <td>Squirtle</td>\n",
       "      <td>water</td>\n",
       "      <td>44</td>\n",
       "      <td>Wartortle</td>\n",
       "      <td>yes</td>\n",
       "    </tr>\n",
       "    <tr>\n",
       "      <th>3</th>\n",
       "      <td>Caterpie</td>\n",
       "      <td>bug</td>\n",
       "      <td>45</td>\n",
       "      <td>Metapod</td>\n",
       "      <td>no</td>\n",
       "    </tr>\n",
       "  </tbody>\n",
       "</table>\n",
       "</div>"
      ],
      "text/plain": [
       "         name   type  hp   evolution pokedex\n",
       "0   Bulbasaur  grass  45     Ivysaur     yes\n",
       "1  Charmander   fire  39  Charmeleon      no\n",
       "2    Squirtle  water  44   Wartortle     yes\n",
       "3    Caterpie    bug  45     Metapod      no"
      ]
     },
     "execution_count": 17,
     "metadata": {},
     "output_type": "execute_result"
    }
   ],
   "source": [
    "#2. If the DataFrame columns are in alphabetical order, change the order of the columns as name, type, hp, evolution, pokedex\n",
    "new_order= [\"name\", \"type\", \"hp\", \"evolution\", \"pokedex\"]\n",
    "pokemon= pokemon.loc[:, new_order]\n",
    "pokemon"
   ]
  },
  {
   "cell_type": "code",
   "execution_count": 18,
   "id": "5917e1ef",
   "metadata": {},
   "outputs": [
    {
     "data": {
      "text/html": [
       "<div>\n",
       "<style scoped>\n",
       "    .dataframe tbody tr th:only-of-type {\n",
       "        vertical-align: middle;\n",
       "    }\n",
       "\n",
       "    .dataframe tbody tr th {\n",
       "        vertical-align: top;\n",
       "    }\n",
       "\n",
       "    .dataframe thead th {\n",
       "        text-align: right;\n",
       "    }\n",
       "</style>\n",
       "<table border=\"1\" class=\"dataframe\">\n",
       "  <thead>\n",
       "    <tr style=\"text-align: right;\">\n",
       "      <th></th>\n",
       "      <th>name</th>\n",
       "      <th>type</th>\n",
       "      <th>place</th>\n",
       "      <th>hp</th>\n",
       "      <th>evolution</th>\n",
       "      <th>pokedex</th>\n",
       "    </tr>\n",
       "  </thead>\n",
       "  <tbody>\n",
       "    <tr>\n",
       "      <th>0</th>\n",
       "      <td>Bulbasaur</td>\n",
       "      <td>grass</td>\n",
       "      <td>lake</td>\n",
       "      <td>45</td>\n",
       "      <td>Ivysaur</td>\n",
       "      <td>yes</td>\n",
       "    </tr>\n",
       "    <tr>\n",
       "      <th>1</th>\n",
       "      <td>Charmander</td>\n",
       "      <td>fire</td>\n",
       "      <td>parks</td>\n",
       "      <td>39</td>\n",
       "      <td>Charmeleon</td>\n",
       "      <td>no</td>\n",
       "    </tr>\n",
       "    <tr>\n",
       "      <th>2</th>\n",
       "      <td>Squirtle</td>\n",
       "      <td>water</td>\n",
       "      <td>hills</td>\n",
       "      <td>44</td>\n",
       "      <td>Wartortle</td>\n",
       "      <td>yes</td>\n",
       "    </tr>\n",
       "    <tr>\n",
       "      <th>3</th>\n",
       "      <td>Caterpie</td>\n",
       "      <td>bug</td>\n",
       "      <td>forest</td>\n",
       "      <td>45</td>\n",
       "      <td>Metapod</td>\n",
       "      <td>no</td>\n",
       "    </tr>\n",
       "  </tbody>\n",
       "</table>\n",
       "</div>"
      ],
      "text/plain": [
       "         name   type   place  hp   evolution pokedex\n",
       "0   Bulbasaur  grass    lake  45     Ivysaur     yes\n",
       "1  Charmander   fire   parks  39  Charmeleon      no\n",
       "2    Squirtle  water   hills  44   Wartortle     yes\n",
       "3    Caterpie    bug  forest  45     Metapod      no"
      ]
     },
     "execution_count": 18,
     "metadata": {},
     "output_type": "execute_result"
    }
   ],
   "source": [
    "# 3. Add another column called place, and insert places (lakes, parks, hills, forest etc) of your choice \n",
    "pokemon['place']=['lake','parks','hills','forest']\n",
    "pokemon=pokemon.iloc[:,[0,1,5,2,3,4]] #using .iloc we canchage the location of the column in the dataframe.the another way is .insert(index to where insert,[column name],[column values]) using this method can directly insert the colum at desired location \n",
    "pokemon"
   ]
  },
  {
   "cell_type": "code",
   "execution_count": 19,
   "id": "365c051f",
   "metadata": {},
   "outputs": [
    {
     "data": {
      "text/plain": [
       "name         object\n",
       "type         object\n",
       "place        object\n",
       "hp            int64\n",
       "evolution    object\n",
       "pokedex      object\n",
       "dtype: object"
      ]
     },
     "execution_count": 19,
     "metadata": {},
     "output_type": "execute_result"
    }
   ],
   "source": [
    "#4. Display all columns and their datatypes. \n",
    "\n",
    "pokemon.dtypes "
   ]
  },
  {
   "cell_type": "code",
   "execution_count": 25,
   "id": "0fb23b82",
   "metadata": {},
   "outputs": [
    {
     "name": "stdout",
     "output_type": "stream",
     "text": [
      "0    Bulbasaur\n",
      "2     Squirtle\n",
      "Name: name, dtype: object\n"
     ]
    }
   ],
   "source": [
    "#5. Display all the names whose pokedex status is “yes” \n",
    "a=pokemon[pokemon['pokedex']=='yes']['name']\n",
    "print(a)"
   ]
  },
  {
   "cell_type": "code",
   "execution_count": 23,
   "id": "ade37b25",
   "metadata": {},
   "outputs": [
    {
     "data": {
      "text/html": [
       "<div>\n",
       "<style scoped>\n",
       "    .dataframe tbody tr th:only-of-type {\n",
       "        vertical-align: middle;\n",
       "    }\n",
       "\n",
       "    .dataframe tbody tr th {\n",
       "        vertical-align: top;\n",
       "    }\n",
       "\n",
       "    .dataframe thead th {\n",
       "        text-align: right;\n",
       "    }\n",
       "</style>\n",
       "<table border=\"1\" class=\"dataframe\">\n",
       "  <thead>\n",
       "    <tr style=\"text-align: right;\">\n",
       "      <th></th>\n",
       "      <th>name</th>\n",
       "      <th>type</th>\n",
       "      <th>place</th>\n",
       "      <th>hp</th>\n",
       "      <th>evolution</th>\n",
       "      <th>pokedex</th>\n",
       "    </tr>\n",
       "  </thead>\n",
       "  <tbody>\n",
       "    <tr>\n",
       "      <th>2</th>\n",
       "      <td>Squirtle</td>\n",
       "      <td>water</td>\n",
       "      <td>hills</td>\n",
       "      <td>44</td>\n",
       "      <td>Wartortle</td>\n",
       "      <td>yes</td>\n",
       "    </tr>\n",
       "  </tbody>\n",
       "</table>\n",
       "</div>"
      ],
      "text/plain": [
       "       name   type  place  hp  evolution pokedex\n",
       "2  Squirtle  water  hills  44  Wartortle     yes"
      ]
     },
     "execution_count": 23,
     "metadata": {},
     "output_type": "execute_result"
    }
   ],
   "source": [
    "#6. Display all names whose hp is in between 40 to 45 and type will be either fire or water \n",
    "b=pokemon[(pokemon['hp'].between(40,45))&(pokemon['type'].isin(['fire','water']))]\n",
    "b"
   ]
  },
  {
   "cell_type": "code",
   "execution_count": 33,
   "id": "b5e014f3",
   "metadata": {},
   "outputs": [],
   "source": [
    "#7. Convert the column pokedex into 1’s and 0’s. \n",
    "from sklearn.preprocessing import LabelEncoder\n",
    "le = LabelEncoder() #importing the label encoder from sklearn to perfrom the encoding on the pokedex column \n",
    "le.fit(pokemon.pokedex.drop_duplicates()) # thse line make sure that we only have unique value .fit will make sure that those unique value are assign to a number\n",
    "pokemon.pokedex = le.transform(pokemon.pokedex)#we are replacing the numical value with the \"yes\" and \"no\" column \n",
    "#why label encoding?--->>we use the label encoding to convert the catogrical data into numerical data we use label encoding when the data has a natural order"
   ]
  },
  {
   "cell_type": "code",
   "execution_count": 35,
   "id": "c29990cf",
   "metadata": {},
   "outputs": [
    {
     "data": {
      "text/html": [
       "<div>\n",
       "<style scoped>\n",
       "    .dataframe tbody tr th:only-of-type {\n",
       "        vertical-align: middle;\n",
       "    }\n",
       "\n",
       "    .dataframe tbody tr th {\n",
       "        vertical-align: top;\n",
       "    }\n",
       "\n",
       "    .dataframe thead th {\n",
       "        text-align: right;\n",
       "    }\n",
       "</style>\n",
       "<table border=\"1\" class=\"dataframe\">\n",
       "  <thead>\n",
       "    <tr style=\"text-align: right;\">\n",
       "      <th></th>\n",
       "      <th>name</th>\n",
       "      <th>type</th>\n",
       "      <th>place</th>\n",
       "      <th>hp</th>\n",
       "      <th>evolution</th>\n",
       "      <th>pokedex</th>\n",
       "    </tr>\n",
       "  </thead>\n",
       "  <tbody>\n",
       "    <tr>\n",
       "      <th>0</th>\n",
       "      <td>Bulbasaur</td>\n",
       "      <td>grass</td>\n",
       "      <td>lake</td>\n",
       "      <td>45</td>\n",
       "      <td>Ivysaur</td>\n",
       "      <td>1</td>\n",
       "    </tr>\n",
       "    <tr>\n",
       "      <th>1</th>\n",
       "      <td>Charmander</td>\n",
       "      <td>fire</td>\n",
       "      <td>parks</td>\n",
       "      <td>39</td>\n",
       "      <td>Charmeleon</td>\n",
       "      <td>0</td>\n",
       "    </tr>\n",
       "    <tr>\n",
       "      <th>2</th>\n",
       "      <td>Squirtle</td>\n",
       "      <td>water</td>\n",
       "      <td>hills</td>\n",
       "      <td>44</td>\n",
       "      <td>Wartortle</td>\n",
       "      <td>1</td>\n",
       "    </tr>\n",
       "    <tr>\n",
       "      <th>3</th>\n",
       "      <td>Caterpie</td>\n",
       "      <td>bug</td>\n",
       "      <td>forest</td>\n",
       "      <td>45</td>\n",
       "      <td>Metapod</td>\n",
       "      <td>0</td>\n",
       "    </tr>\n",
       "  </tbody>\n",
       "</table>\n",
       "</div>"
      ],
      "text/plain": [
       "         name   type   place  hp   evolution  pokedex\n",
       "0   Bulbasaur  grass    lake  45     Ivysaur        1\n",
       "1  Charmander   fire   parks  39  Charmeleon        0\n",
       "2    Squirtle  water   hills  44   Wartortle        1\n",
       "3    Caterpie    bug  forest  45     Metapod        0"
      ]
     },
     "execution_count": 35,
     "metadata": {},
     "output_type": "execute_result"
    }
   ],
   "source": [
    "pokemon.head()"
   ]
  },
  {
   "cell_type": "markdown",
   "id": "059a9e36",
   "metadata": {},
   "source": [
    "3. Online Food Order Prediction\n"
   ]
  },
  {
   "cell_type": "code",
   "execution_count": 40,
   "id": "165d8975",
   "metadata": {},
   "outputs": [
    {
     "data": {
      "text/html": [
       "<div>\n",
       "<style scoped>\n",
       "    .dataframe tbody tr th:only-of-type {\n",
       "        vertical-align: middle;\n",
       "    }\n",
       "\n",
       "    .dataframe tbody tr th {\n",
       "        vertical-align: top;\n",
       "    }\n",
       "\n",
       "    .dataframe thead th {\n",
       "        text-align: right;\n",
       "    }\n",
       "</style>\n",
       "<table border=\"1\" class=\"dataframe\">\n",
       "  <thead>\n",
       "    <tr style=\"text-align: right;\">\n",
       "      <th></th>\n",
       "      <th>Age</th>\n",
       "      <th>Gender</th>\n",
       "      <th>Marital Status</th>\n",
       "      <th>Occupation</th>\n",
       "      <th>Monthly Income</th>\n",
       "      <th>Educational Qualifications</th>\n",
       "      <th>Family size</th>\n",
       "      <th>latitude</th>\n",
       "      <th>longitude</th>\n",
       "      <th>Pin code</th>\n",
       "      <th>Output</th>\n",
       "      <th>Feedback</th>\n",
       "      <th>Unnamed: 12</th>\n",
       "    </tr>\n",
       "  </thead>\n",
       "  <tbody>\n",
       "    <tr>\n",
       "      <th>0</th>\n",
       "      <td>20</td>\n",
       "      <td>Female</td>\n",
       "      <td>Single</td>\n",
       "      <td>Student</td>\n",
       "      <td>No Income</td>\n",
       "      <td>Post Graduate</td>\n",
       "      <td>4</td>\n",
       "      <td>12.9766</td>\n",
       "      <td>77.5993</td>\n",
       "      <td>560001</td>\n",
       "      <td>Yes</td>\n",
       "      <td>Positive</td>\n",
       "      <td>Yes</td>\n",
       "    </tr>\n",
       "    <tr>\n",
       "      <th>1</th>\n",
       "      <td>24</td>\n",
       "      <td>Female</td>\n",
       "      <td>Single</td>\n",
       "      <td>Student</td>\n",
       "      <td>Below Rs.10000</td>\n",
       "      <td>Graduate</td>\n",
       "      <td>3</td>\n",
       "      <td>12.9770</td>\n",
       "      <td>77.5773</td>\n",
       "      <td>560009</td>\n",
       "      <td>Yes</td>\n",
       "      <td>Positive</td>\n",
       "      <td>Yes</td>\n",
       "    </tr>\n",
       "    <tr>\n",
       "      <th>2</th>\n",
       "      <td>22</td>\n",
       "      <td>Male</td>\n",
       "      <td>Single</td>\n",
       "      <td>Student</td>\n",
       "      <td>Below Rs.10000</td>\n",
       "      <td>Post Graduate</td>\n",
       "      <td>3</td>\n",
       "      <td>12.9551</td>\n",
       "      <td>77.6593</td>\n",
       "      <td>560017</td>\n",
       "      <td>Yes</td>\n",
       "      <td>Negative</td>\n",
       "      <td>Yes</td>\n",
       "    </tr>\n",
       "    <tr>\n",
       "      <th>3</th>\n",
       "      <td>22</td>\n",
       "      <td>Female</td>\n",
       "      <td>Single</td>\n",
       "      <td>Student</td>\n",
       "      <td>No Income</td>\n",
       "      <td>Graduate</td>\n",
       "      <td>6</td>\n",
       "      <td>12.9473</td>\n",
       "      <td>77.5616</td>\n",
       "      <td>560019</td>\n",
       "      <td>Yes</td>\n",
       "      <td>Positive</td>\n",
       "      <td>Yes</td>\n",
       "    </tr>\n",
       "    <tr>\n",
       "      <th>4</th>\n",
       "      <td>22</td>\n",
       "      <td>Male</td>\n",
       "      <td>Single</td>\n",
       "      <td>Student</td>\n",
       "      <td>Below Rs.10000</td>\n",
       "      <td>Post Graduate</td>\n",
       "      <td>4</td>\n",
       "      <td>12.9850</td>\n",
       "      <td>77.5533</td>\n",
       "      <td>560010</td>\n",
       "      <td>Yes</td>\n",
       "      <td>Positive</td>\n",
       "      <td>Yes</td>\n",
       "    </tr>\n",
       "  </tbody>\n",
       "</table>\n",
       "</div>"
      ],
      "text/plain": [
       "   Age  Gender Marital Status Occupation  Monthly Income  \\\n",
       "0   20  Female         Single    Student       No Income   \n",
       "1   24  Female         Single    Student  Below Rs.10000   \n",
       "2   22    Male         Single    Student  Below Rs.10000   \n",
       "3   22  Female         Single    Student       No Income   \n",
       "4   22    Male         Single    Student  Below Rs.10000   \n",
       "\n",
       "  Educational Qualifications  Family size  latitude  longitude  Pin code  \\\n",
       "0              Post Graduate            4   12.9766    77.5993    560001   \n",
       "1                   Graduate            3   12.9770    77.5773    560009   \n",
       "2              Post Graduate            3   12.9551    77.6593    560017   \n",
       "3                   Graduate            6   12.9473    77.5616    560019   \n",
       "4              Post Graduate            4   12.9850    77.5533    560010   \n",
       "\n",
       "  Output   Feedback Unnamed: 12  \n",
       "0    Yes   Positive         Yes  \n",
       "1    Yes   Positive         Yes  \n",
       "2    Yes  Negative          Yes  \n",
       "3    Yes   Positive         Yes  \n",
       "4    Yes   Positive         Yes  "
      ]
     },
     "execution_count": 40,
     "metadata": {},
     "output_type": "execute_result"
    }
   ],
   "source": [
    "food=pd.read_csv(\"onlinefoods.csv\")\n",
    "food.head()"
   ]
  },
  {
   "cell_type": "code",
   "execution_count": 53,
   "id": "ca121ddd",
   "metadata": {},
   "outputs": [
    {
     "data": {
      "image/png": "[encoded data removed]",
      "text/plain": [
       "<Figure size 600x600 with 1 Axes>"
      ]
     },
     "metadata": {},
     "output_type": "display_data"
    }
   ],
   "source": [
    "#1) Who orders food more ? Married or single( Make use of pie chart ) \n",
    "order_count = food[\"Marital Status\"].value_counts()\n",
    "plt.figure(figsize=(6, 6))\n",
    "plt.pie(order_count, labels=order_count.index, autopct='%1.1f%%', colors=['pink','blue','red'],shadow=True)\n",
    "plt.title(\"Food Orders: Married vs Single\")\n",
    "plt.show()"
   ]
  },
  {
   "cell_type": "code",
   "execution_count": 68,
   "id": "b3cf9af9",
   "metadata": {},
   "outputs": [
    {
     "data": {
      "image/png": "[encoded data removed]",
      "text/plain": [
       "<Figure size 600x600 with 1 Axes>"
      ]
     },
     "metadata": {},
     "output_type": "display_data"
    }
   ],
   "source": [
    "#2) Analyze food ordering behavior across Income Levels. ( Make use of pie chart ) \n",
    "income = food[\"Monthly Income\"].value_counts()\n",
    "plt.figure(figsize=(6, 6))\n",
    "plt.pie(income_orders, labels=income.index, autopct='%1.1f%%', colors=sns.color_palette('Set2'),shadow=True)\n",
    "plt.title(\"Food Ordering by Income Level\")\n",
    "plt.show()\n"
   ]
  },
  {
   "cell_type": "code",
   "execution_count": 71,
   "id": "b7073915",
   "metadata": {
    "scrolled": true
   },
   "outputs": [
    {
     "data": {
      "image/png": "[encoded data removed]",
      "text/plain": [
       "<Figure size 600x600 with 1 Axes>"
      ]
     },
     "metadata": {},
     "output_type": "display_data"
    }
   ],
   "source": [
    "#3) Display Food ordering patterns based on family size. ( Make use of pie chart )\n",
    "family_size_orders = food[\"Family size\"].value_counts()\n",
    "plt.figure(figsize=(6, 6))\n",
    "plt.pie(family_size_orders, labels=family_size_orders.index, autopct='%1.1f%%', colors=sns.color_palette(\"Set3\"),shadow=True)\n",
    "plt.title(\"Food Ordering by Family Size\")\n",
    "plt.show()\n"
   ]
  },
  {
   "cell_type": "code",
   "execution_count": 77,
   "id": "2cc9108e",
   "metadata": {},
   "outputs": [
    {
     "data": {
      "image/png": "[encoded data removed]",
      "text/plain": [
       "<Figure size 800x500 with 1 Axes>"
      ]
     },
     "metadata": {},
     "output_type": "display_data"
    }
   ],
   "source": [
    "#4) Display the count of customers based on qualification, who orders online food.(Make use of bar chart) \n",
    "qualification_count = food[\"Educational Qualifications\"].value_counts()\n",
    "plt.figure(figsize=(8, 5))\n",
    "sns.barplot(x=qualification_count.index, y=qualification_count.values, palette=\"coolwarm\")\n",
    "plt.xlabel(\"Qualification\")\n",
    "plt.ylabel(\"Count\")\n",
    "plt.title(\"Online Food Orders by Qualification\")\n",
    "plt.xticks(rotation=45)\n",
    "plt.show()\n"
   ]
  },
  {
   "cell_type": "code",
   "execution_count": 81,
   "id": "0cb06575",
   "metadata": {},
   "outputs": [
    {
     "data": {
      "image/png": "[encoded data removed]",
      "text/plain": [
       "<Figure size 600x400 with 1 Axes>"
      ]
     },
     "metadata": {},
     "output_type": "display_data"
    }
   ],
   "source": [
    "#5) Count of Positive and Negative Feedback (Bar Chart)\n",
    "feedback= food[\"Feedback\"].value_counts()\n",
    "plt.figure(figsize=(6, 4))\n",
    "sns.barplot(x=feedback.index, y=feedback.values, palette=\"Reds_r\")\n",
    "plt.xlabel(\"Feedback Type\")\n",
    "plt.ylabel(\"Count\")\n",
    "plt.title(\"Positive vs Negative Feedback\")\n",
    "plt.show()"
   ]
  },
  {
   "cell_type": "code",
   "execution_count": null,
   "id": "a048b6c1",
   "metadata": {},
   "outputs": [],
   "source": []
  }
 ],
 "metadata": {
  "kernelspec": {
   "display_name": "Python 3 (ipykernel)",
   "language": "python",
   "name": "python3"
  },
  "language_info": {
   "codemirror_mode": {
    "name": "ipython",
    "version": 3
   },
   "file_extension": ".py",
   "mimetype": "text/x-python",
   "name": "python",
   "nbconvert_exporter": "python",
   "pygments_lexer": "ipython3",
   "version": "3.11.1"
  }
 },
 "nbformat": 4,
 "nbformat_minor": 5
}
