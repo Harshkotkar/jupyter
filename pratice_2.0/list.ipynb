{
 "cells": [
  {
   "cell_type": "code",
   "execution_count": 20,
   "id": "79dd9993",
   "metadata": {},
   "outputs": [
    {
     "name": "stdout",
     "output_type": "stream",
     "text": [
      "[1, 2, 3, 'banana', 5, 6]\n",
      "['banana']\n",
      "[1, 2, 3, 'banana', 5, 6, 'pineapple']\n"
     ]
    }
   ],
   "source": [
    "my_list=[1,2,3,4,5,6]\n",
    "\n",
    "my_list[3]=\"banana\"\n",
    "print(my_list)\n",
    "a=my_list[3:4]\n",
    "print(a)\n",
    "add=my_list.append(\"pineapple\")\n",
    "print(my_list)\n"
   ]
  },
  {
   "cell_type": "code",
   "execution_count": null,
   "id": "7ed6cd69",
   "metadata": {},
   "outputs": [],
   "source": [
    "Q1 you have a list responses containing responses from a survey however some responses are recorded as empty string  due to data entry errors \n",
    "task is to remove the empty spaces from the list \n",
    "\n",
    "responses=['y','','n','','','n','y','','','y','y']"
   ]
  },
  {
   "cell_type": "code",
   "execution_count": 35,
   "id": "269723ef",
   "metadata": {},
   "outputs": [
    {
     "name": "stdout",
     "output_type": "stream",
     "text": [
      "['y', 'n', 'n', 'y', 'y', 'y']\n"
     ]
    }
   ],
   "source": [
    "responses=['y','','n','','','n','y','','','y','y']\n",
    "clean=[]\n",
    "for r in responses:\n",
    "    if r!='':\n",
    "        clean.append(r)\n",
    "print(clean)"
   ]
  },
  {
   "cell_type": "code",
   "execution_count": 25,
   "id": "2433ad32",
   "metadata": {},
   "outputs": [
    {
     "name": "stdout",
     "output_type": "stream",
     "text": [
      "[1, 2, 3, 4, [5, 6]]\n"
     ]
    }
   ],
   "source": [
    "num=[1,2,3,4]\n",
    "num.append([5,6])\n",
    "print(num)"
   ]
  },
  {
   "cell_type": "code",
   "execution_count": 29,
   "id": "65862a67",
   "metadata": {},
   "outputs": [
    {
     "name": "stdout",
     "output_type": "stream",
     "text": [
      "spiderman captan america batman\n"
     ]
    }
   ],
   "source": [
    "w=[\"spiderman\",\"batman\"]\n",
    "s=\" captan america \".join(w)\n",
    "print(s)"
   ]
  },
  {
   "cell_type": "code",
   "execution_count": 32,
   "id": "236fc56f",
   "metadata": {},
   "outputs": [
    {
     "name": "stdout",
     "output_type": "stream",
     "text": [
      "['lemon', 'orange', 1, 2, 4, 5, 6, 60]\n"
     ]
    }
   ],
   "source": [
    "my_list=[1,2,3,4,5,6]\n",
    "my_list.append(60)\n",
    "my_list.insert(0,\"lemon\")\n",
    "my_list.insert(1,'orange')\n",
    "my_list.remove(3)\n",
    "print(my_list)\n"
   ]
  },
  {
   "cell_type": "code",
   "execution_count": 43,
   "id": "8142b816",
   "metadata": {},
   "outputs": [
    {
     "name": "stdout",
     "output_type": "stream",
     "text": [
      "Enter the number of the people:: 6\n",
      "Enter the age of the person 1 ::16\n",
      "Enter the age of the person 2 ::18\n",
      "Enter the age of the person 3 ::24\n",
      "Enter the age of the person 4 ::67\n",
      "Enter the age of the person 5 ::101\n",
      "Enter the age of the person 6 ::289\n",
      "age is greater than 125 \"kya karenga itna jee ke \" \n",
      "[16, 18, 24, 67, 101, 289]\n",
      "Total number of the Child :: 1\n",
      "Total number of the Adult :: 1\n",
      "Total number of the Senior :: 2\n"
     ]
    }
   ],
   "source": [
    "\n",
    "\n",
    "no_people=int(input(\"Enter the number of the people:: \"))\n",
    "ages=[]\n",
    "for i in range(no_people):\n",
    "    age=int(input(\"Enter the age of the person {} ::\".format(i+1)))\n",
    "    ages.append(age)\n",
    "\n",
    "count_child=0\n",
    "count_adult=0\n",
    "count_senior=0\n",
    "\n",
    "for i in ages:\n",
    "    if i<18:\n",
    "        count_child +=1\n",
    "    elif i>=18 and i<60:\n",
    "        count_adult=1\n",
    "    elif i>=60 and i<125:\n",
    "        count_senior+=1\n",
    "    else:\n",
    "        print(\"age is greater than 125 \\\"kya karenga itna jee ke \\\" \")\n",
    "print(ages)\n",
    "print(\"Total number of the Child ::\",count_child)\n",
    "print(\"Total number of the Adult ::\",count_adult)\n",
    "print(\"Total number of the Senior ::\",count_senior)\n",
    "\n",
    "        "
   ]
  },
  {
   "cell_type": "code",
   "execution_count": 58,
   "id": "45f4ce07",
   "metadata": {},
   "outputs": [
    {
     "name": "stdout",
     "output_type": "stream",
     "text": [
      "['Happiness', 'held', 'is', 'the', 'seed', 'happiness', 'shared', 'is', 'the', 'flower']\n",
      "HAPPINESS HELD IS THE SEED; HAPPINESS SHARED IS THE FLOWER\n",
      "Happiness held is the seed happiness shared is the flower\n"
     ]
    }
   ],
   "source": [
    "str1 = \"Happiness held is the seed; happiness shared is the flower\"\n",
    "str=str1.replace(\";\",\" \").split()\n",
    "print(str)\n",
    "str2=str1.upper()\n",
    "print(str2)\n",
    "join1=\" \".join(str)\n",
    "print(join1)"
   ]
  },
  {
   "cell_type": "code",
   "execution_count": null,
   "id": "69d200e5",
   "metadata": {},
   "outputs": [],
   "source": []
  }
 ],
 "metadata": {
  "kernelspec": {
   "display_name": "Python 3 (ipykernel)",
   "language": "python",
   "name": "python3"
  },
  "language_info": {
   "codemirror_mode": {
    "name": "ipython",
    "version": 3
   },
   "file_extension": ".py",
   "mimetype": "text/x-python",
   "name": "python",
   "nbconvert_exporter": "python",
   "pygments_lexer": "ipython3",
   "version": "3.11.1"
  }
 },
 "nbformat": 4,
 "nbformat_minor": 5
}
