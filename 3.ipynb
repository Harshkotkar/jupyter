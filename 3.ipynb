{
 "cells": [
  {
   "cell_type": "code",
   "execution_count": 28,
   "id": "b90dc818",
   "metadata": {},
   "outputs": [
    {
     "name": "stdout",
     "output_type": "stream",
     "text": [
      "length:12\n",
      "breadth:14\n",
      "height:15\n",
      "Volume: 2520\n"
     ]
    }
   ],
   "source": [
    "\n",
    "#Q1)1. Define a class called Box, having members as:\n",
    "# Data Members: length, breadth and height of int type.\n",
    "# Member Functions:\n",
    "# i. Constructor to initialise the data members.\n",
    "# ii. To compute and display the volume.\n",
    "class Box:\n",
    "    def __init__(self, l, b, h):\n",
    "        self.length = l\n",
    "        self.breadth = b\n",
    "        self.height = h\n",
    "\n",
    "    def volume(self):\n",
    "        vol = self.length * self.breadth * self.height\n",
    "        print(f\"Volume: {vol}\")\n",
    "\n",
    "len=int(input(\"length:\"))\n",
    "br=int(input(\"breadth:\"))\n",
    "height=int(input(\"height:\"))\n",
    "\n",
    "box1 = Box(len, br,height)  \n",
    "box1.volume()  \n"
   ]
  },
  {
   "cell_type": "code",
   "execution_count": 26,
   "id": "7e5801f6",
   "metadata": {},
   "outputs": [
    {
     "name": "stdout",
     "output_type": "stream",
     "text": [
      "Roll No: 101\n",
      "Name: Abhay\n",
      "Marks: 75, 80, 82\n",
      "Percentage: 79.00%\n",
      "Roll No: 102\n",
      "Name: Atharv\n",
      "Marks: 65, 70, 86\n",
      "Percentage: 73.67%\n",
      "Roll No: 103\n",
      "Name: DJ\n",
      "Marks: 78, 82, 79\n",
      "Percentage: 79.67%\n"
     ]
    }
   ],
   "source": [
    "# # Define a class Student with roll no, name and marks of 3 subjects.\n",
    "# Accept details of student using constructor. Write a function to calculate the percentage of a student and display the details of the student.\n",
    "\n",
    "class Student:\n",
    "    def __init__(self, roll_no, name, marks1, marks2, marks3):\n",
    "        \n",
    "        self.roll_no = roll_no\n",
    "        self.name = name\n",
    "        self.marks1 = marks1\n",
    "        self.marks2 = marks2\n",
    "        self.marks3 = marks3\n",
    "\n",
    "    def percentage(self):\n",
    "        total_marks = self.marks1 + self.marks2 + self.marks3\n",
    "        percentage = (total_marks / 300) * 100  \n",
    "        return percentage\n",
    "\n",
    "    def display(self):\n",
    "        percent = self.percentage()\n",
    "        print(f\"Roll No: {self.roll_no}\")\n",
    "        print(f\"Name: {self.name}\")\n",
    "        print(f\"Marks: {self.marks1}, {self.marks2}, {self.marks3}\")\n",
    "        print(f\"Percentage: {percent:.2f}%\")\n",
    "\n",
    "\n",
    "student1 = Student(101, \"Abhay\", 75, 80, 82)  \n",
    "student1.display()  \n",
    "student2 = Student(102, \"Atharv\", 65, 70, 86)  \n",
    "student2.display()  \n",
    "student3 = Student(103, \"DJ\", 78, 81,77)  \n",
    "student3.display()  \n"
   ]
  },
  {
   "cell_type": "code",
   "execution_count": 11,
   "id": "b206aca3",
   "metadata": {},
   "outputs": [
    {
     "name": "stdout",
     "output_type": "stream",
     "text": [
      "Enter Account ID: 1212\n",
      "Enter Account Holder Name: harsh\n",
      "Enter Initial Balance: 53000\n",
      "\n",
      "--- Bank Operations ---\n",
      "Account ID: 1212, Balance: 53000.0\n",
      "\n",
      "Enter amount to deposit: 25\n",
      "Deposited 25.0. New Balance: 53025.0\n",
      "\n",
      "Do you want to withdraw an amount? (yes/no): no\n",
      "Withdrawal canceled.\n",
      "Account ID: 1212, Balance: 53025.0\n"
     ]
    }
   ],
   "source": [
    "\n",
    "# 3. Write a Python program to create a class Bank with data members as account no, customer name and balance.\n",
    "# Define functions like check balance(), deposit(), withdraw().\n",
    "# Accept details from the user and define appropriate constructor.\n",
    "\n",
    "class BankAccount:\n",
    "    def __init__(self, account_id, holder_name, initial_balance=0):\n",
    "        self.account_id = account_id\n",
    "        self.holder_name = holder_name\n",
    "        self.balance = initial_balance\n",
    "\n",
    "    def check_balance(self):\n",
    "        print(f\"Account ID: {self.account_id}, Balance: {self.balance}\")\n",
    "\n",
    "    def deposit(self, amount):\n",
    "        if amount > 0:\n",
    "            self.balance += amount\n",
    "            print(f\"Deposited {amount}. New Balance: {self.balance}\")\n",
    "        else:\n",
    "            print(\"Deposit amount must be positive.\")\n",
    "\n",
    "    def withdraw(self, amount):\n",
    "        if amount <= self.balance:\n",
    "            self.balance -= amount\n",
    "            print(f\"Withdrawn {amount}. New Balance: {self.balance}\")\n",
    "        else:\n",
    "            print(\"Insufficient balance!\")\n",
    "\n",
    "account_id = input(\"Enter Account ID: \")\n",
    "holder_name = input(\"Enter Account Holder Name: \")\n",
    "initial_balance = float(input(\"Enter Initial Balance: \"))\n",
    "\n",
    "account = BankAccount(account_id, holder_name, initial_balance)\n",
    "\n",
    "print(\"\\n--- Bank Operations ---\")\n",
    "account.check_balance()\n",
    "\n",
    "deposit_amount = float(input(\"\\nEnter amount to deposit: \"))\n",
    "account.deposit(deposit_amount)\n",
    "\n",
    "withdraw_choice = input(\"\\nDo you want to withdraw an amount? (yes/no): \").strip().lower()\n",
    "\n",
    "if withdraw_choice == 'yes':\n",
    "    withdraw_amount = float(input(\"Enter amount to withdraw: \"))\n",
    "    account.withdraw(withdraw_amount)\n",
    "else:\n",
    "    print(\"Withdrawal canceled.\")\n",
    "\n",
    "account.check_balance()\n"
   ]
  },
  {
   "cell_type": "code",
   "execution_count": 12,
   "id": "0508f366",
   "metadata": {},
   "outputs": [
    {
     "name": "stdout",
     "output_type": "stream",
     "text": [
      "Enter Bike Number: 0223\n",
      "Enter Phone Number: 12334444444444444\n",
      "Enter Customer Name: 12242\n",
      "Enter Number of Days for Rent: 10\n",
      "Bike No: 0223\n",
      "Phone No: 12334444444444444\n",
      "Name: 12242\n",
      "No. of Days: 10\n",
      "Charge: 4500\n"
     ]
    }
   ],
   "source": [
    "# Q4.\n",
    "\n",
    "class Mobike:\n",
    "    def __init__(self):\n",
    "        self.bno = \"\"\n",
    "        self.phno = \"\"\n",
    "        self.name = \"\"\n",
    "        self.days = 0\n",
    "        self.charge = 0\n",
    "\n",
    "    def input_details(self):\n",
    "        self.bno = input(\"Enter Bike Number: \")\n",
    "        self.phno = input(\"Enter Phone Number: \")\n",
    "        self.name = input(\"Enter Customer Name: \")\n",
    "        self.days = int(input(\"Enter Number of Days for Rent: \"))\n",
    "\n",
    "    def compute_charge(self):\n",
    "        if self.days <= 5:\n",
    "            self.charge = self.days * 500\n",
    "        elif self.days <= 10:\n",
    "            self.charge = (5 * 500) + ((self.days - 5) * 400)\n",
    "        else:\n",
    "            self.charge = (5 * 500) + (5 * 400) + ((self.days - 10) * 200)\n",
    "\n",
    "    def display(self):\n",
    "        print(f\"Bike No: {self.bno}\")\n",
    "        print(f\"Phone No: {self.phno}\")\n",
    "        print(f\"Name: {self.name}\")\n",
    "        print(f\"No. of Days: {self.days}\")\n",
    "        print(f\"Charge: {self.charge}\")\n",
    "\n",
    "bike = Mobike()\n",
    "bike.input_details()\n",
    "bike.compute_charge()\n",
    "bike.display()\n"
   ]
  },
  {
   "cell_type": "code",
   "execution_count": 13,
   "id": "f15f18c6",
   "metadata": {},
   "outputs": [
    {
     "name": "stdout",
     "output_type": "stream",
     "text": [
      "Book ID: 101, Book Name: Relativity, Book Price: 300\n",
      "Publication: Ablert Einstein, Number of Copies: 50\n"
     ]
    }
   ],
   "source": [
    "#Q5.\n",
    "\n",
    "class Book:\n",
    "    def __init__(self, book_id, book_name, book_price):\n",
    "        self.book_id = book_id\n",
    "        self.book_name = book_name\n",
    "        self.book_price = book_price\n",
    "    def display(self):\n",
    "        print(f\"Book ID: {self.book_id}, Book Name: {self.book_name}, Book Price: {self.book_price}\")\n",
    "        \n",
    "class TextBook(Book):\n",
    "    \n",
    "    def __init__(self, book_id, book_name, book_price, publication, num_copies):\n",
    "        super().__init__(book_id, book_name, book_price)\n",
    "        self.publication = publication\n",
    "        self.num_copies = num_copies\n",
    "        \n",
    "    def display(self):\n",
    "        super().display()\n",
    "        print(f\"Publication: {self.publication}, Number of Copies: {self.num_copies}\")\n",
    "\n",
    "textbook = TextBook(101, \"Relativity\", 300, \"Ablert Einstein\", 5)\n",
    "textbook.display()\n"
   ]
  },
  {
   "cell_type": "code",
   "execution_count": 25,
   "id": "0d3405a5",
   "metadata": {},
   "outputs": [
    {
     "name": "stdout",
     "output_type": "stream",
     "text": [
      "Volume: 100\n"
     ]
    }
   ],
   "source": [
    "class Box:\n",
    "    def __init__(self,length, breadth, height):\n",
    "        self.length = length  \n",
    "        self.breadth = breadth\n",
    "        self.height = height\n",
    "\n",
    "    def volume(self): \n",
    "        vol = self.length * self.breadth * self.height  \n",
    "        print(f\"Volume: {vol}\")\n",
    "\n",
    "# Example Usage\n",
    "box1 = Box(10, 5, 2)\n",
    "box1.volume()  \n"
   ]
  },
  {
   "cell_type": "code",
   "execution_count": null,
   "id": "a9bdd0e4",
   "metadata": {},
   "outputs": [],
   "source": []
  }
 ],
 "metadata": {
  "kernelspec": {
   "display_name": "Python 3 (ipykernel)",
   "language": "python",
   "name": "python3"
  },
  "language_info": {
   "codemirror_mode": {
    "name": "ipython",
    "version": 3
   },
   "file_extension": ".py",
   "mimetype": "text/x-python",
   "name": "python",
   "nbconvert_exporter": "python",
   "pygments_lexer": "ipython3",
   "version": "3.11.1"
  }
 },
 "nbformat": 4,
 "nbformat_minor": 5
}
