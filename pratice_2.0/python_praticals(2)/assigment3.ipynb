{
 "cells": [
  {
   "cell_type": "code",
   "execution_count": 1,
   "id": "418d41e8",
   "metadata": {},
   "outputs": [],
   "source": [
    "import pandas as pd\n",
    "import numpy as np\n",
    "import warnings \n",
    "warnings.filterwarnings(\"ignore\")"
   ]
  },
  {
   "cell_type": "code",
   "execution_count": 2,
   "id": "7570167b",
   "metadata": {
    "scrolled": false
   },
   "outputs": [
    {
     "data": {
      "text/html": [
       "<div>\n",
       "<style scoped>\n",
       "    .dataframe tbody tr th:only-of-type {\n",
       "        vertical-align: middle;\n",
       "    }\n",
       "\n",
       "    .dataframe tbody tr th {\n",
       "        vertical-align: top;\n",
       "    }\n",
       "\n",
       "    .dataframe thead th {\n",
       "        text-align: right;\n",
       "    }\n",
       "</style>\n",
       "<table border=\"1\" class=\"dataframe\">\n",
       "  <thead>\n",
       "    <tr style=\"text-align: right;\">\n",
       "      <th></th>\n",
       "      <th>age</th>\n",
       "      <th>workclass</th>\n",
       "      <th>fnlwgt</th>\n",
       "      <th>education</th>\n",
       "      <th>educational-num</th>\n",
       "      <th>marital-status</th>\n",
       "      <th>occupation</th>\n",
       "      <th>relationship</th>\n",
       "      <th>race</th>\n",
       "      <th>gender</th>\n",
       "      <th>capital-gain</th>\n",
       "      <th>capital-loss</th>\n",
       "      <th>hours-per-week</th>\n",
       "      <th>native-country</th>\n",
       "      <th>income</th>\n",
       "    </tr>\n",
       "  </thead>\n",
       "  <tbody>\n",
       "    <tr>\n",
       "      <th>0</th>\n",
       "      <td>25</td>\n",
       "      <td>Private</td>\n",
       "      <td>226802</td>\n",
       "      <td>11th</td>\n",
       "      <td>7</td>\n",
       "      <td>Never-married</td>\n",
       "      <td>Machine-op-inspct</td>\n",
       "      <td>Own-child</td>\n",
       "      <td>Black</td>\n",
       "      <td>Male</td>\n",
       "      <td>0</td>\n",
       "      <td>0</td>\n",
       "      <td>40</td>\n",
       "      <td>United-States</td>\n",
       "      <td>&lt;=50K</td>\n",
       "    </tr>\n",
       "    <tr>\n",
       "      <th>1</th>\n",
       "      <td>38</td>\n",
       "      <td>Private</td>\n",
       "      <td>89814</td>\n",
       "      <td>HS-grad</td>\n",
       "      <td>9</td>\n",
       "      <td>Married-civ-spouse</td>\n",
       "      <td>Farming-fishing</td>\n",
       "      <td>Husband</td>\n",
       "      <td>White</td>\n",
       "      <td>Male</td>\n",
       "      <td>0</td>\n",
       "      <td>0</td>\n",
       "      <td>50</td>\n",
       "      <td>United-States</td>\n",
       "      <td>&lt;=50K</td>\n",
       "    </tr>\n",
       "    <tr>\n",
       "      <th>2</th>\n",
       "      <td>28</td>\n",
       "      <td>Local-gov</td>\n",
       "      <td>336951</td>\n",
       "      <td>Assoc-acdm</td>\n",
       "      <td>12</td>\n",
       "      <td>Married-civ-spouse</td>\n",
       "      <td>Protective-serv</td>\n",
       "      <td>Husband</td>\n",
       "      <td>White</td>\n",
       "      <td>Male</td>\n",
       "      <td>0</td>\n",
       "      <td>0</td>\n",
       "      <td>40</td>\n",
       "      <td>United-States</td>\n",
       "      <td>&gt;50K</td>\n",
       "    </tr>\n",
       "    <tr>\n",
       "      <th>3</th>\n",
       "      <td>44</td>\n",
       "      <td>Private</td>\n",
       "      <td>160323</td>\n",
       "      <td>Some-college</td>\n",
       "      <td>10</td>\n",
       "      <td>Married-civ-spouse</td>\n",
       "      <td>Machine-op-inspct</td>\n",
       "      <td>Husband</td>\n",
       "      <td>Black</td>\n",
       "      <td>Male</td>\n",
       "      <td>7688</td>\n",
       "      <td>0</td>\n",
       "      <td>40</td>\n",
       "      <td>United-States</td>\n",
       "      <td>&gt;50K</td>\n",
       "    </tr>\n",
       "    <tr>\n",
       "      <th>4</th>\n",
       "      <td>18</td>\n",
       "      <td>?</td>\n",
       "      <td>103497</td>\n",
       "      <td>Some-college</td>\n",
       "      <td>10</td>\n",
       "      <td>Never-married</td>\n",
       "      <td>?</td>\n",
       "      <td>Own-child</td>\n",
       "      <td>White</td>\n",
       "      <td>Female</td>\n",
       "      <td>0</td>\n",
       "      <td>0</td>\n",
       "      <td>30</td>\n",
       "      <td>United-States</td>\n",
       "      <td>&lt;=50K</td>\n",
       "    </tr>\n",
       "  </tbody>\n",
       "</table>\n",
       "</div>"
      ],
      "text/plain": [
       "   age  workclass  fnlwgt     education  educational-num      marital-status  \\\n",
       "0   25    Private  226802          11th                7       Never-married   \n",
       "1   38    Private   89814       HS-grad                9  Married-civ-spouse   \n",
       "2   28  Local-gov  336951    Assoc-acdm               12  Married-civ-spouse   \n",
       "3   44    Private  160323  Some-college               10  Married-civ-spouse   \n",
       "4   18          ?  103497  Some-college               10       Never-married   \n",
       "\n",
       "          occupation relationship   race  gender  capital-gain  capital-loss  \\\n",
       "0  Machine-op-inspct    Own-child  Black    Male             0             0   \n",
       "1    Farming-fishing      Husband  White    Male             0             0   \n",
       "2    Protective-serv      Husband  White    Male             0             0   \n",
       "3  Machine-op-inspct      Husband  Black    Male          7688             0   \n",
       "4                  ?    Own-child  White  Female             0             0   \n",
       "\n",
       "   hours-per-week native-country income  \n",
       "0              40  United-States  <=50K  \n",
       "1              50  United-States  <=50K  \n",
       "2              40  United-States   >50K  \n",
       "3              40  United-States   >50K  \n",
       "4              30  United-States  <=50K  "
      ]
     },
     "execution_count": 2,
     "metadata": {},
     "output_type": "execute_result"
    }
   ],
   "source": [
    "df=pd.read_csv(\"adult.csv\")\n",
    "df.head()"
   ]
  },
  {
   "cell_type": "code",
   "execution_count": 3,
   "id": "931610bc",
   "metadata": {},
   "outputs": [
    {
     "data": {
      "text/plain": [
       "(48842, 15)"
      ]
     },
     "execution_count": 3,
     "metadata": {},
     "output_type": "execute_result"
    }
   ],
   "source": [
    "#1. Shape of dataset\n",
    "df.shape "
   ]
  },
  {
   "cell_type": "code",
   "execution_count": 4,
   "id": "4ddee369",
   "metadata": {},
   "outputs": [
    {
     "data": {
      "text/plain": [
       "Index(['age', 'workclass', 'fnlwgt', 'education', 'educational-num',\n",
       "       'marital-status', 'occupation', 'relationship', 'race', 'gender',\n",
       "       'capital-gain', 'capital-loss', 'hours-per-week', 'native-country',\n",
       "       'income'],\n",
       "      dtype='object')"
      ]
     },
     "execution_count": 4,
     "metadata": {},
     "output_type": "execute_result"
    }
   ],
   "source": [
    "#2. Print column names\n",
    "df.columns"
   ]
  },
  {
   "cell_type": "code",
   "execution_count": 5,
   "id": "71827b89",
   "metadata": {},
   "outputs": [
    {
     "name": "stdout",
     "output_type": "stream",
     "text": [
      "Number of mens:: 32650\n",
      "Number of womens:: 16192\n"
     ]
    }
   ],
   "source": [
    "#3. How many men and women (sex feature) are represented in this dataset?\n",
    "count=df['gender'].value_counts()\n",
    "print(\"Number of mens::\",count['Male'])\n",
    "print(\"Number of womens::\",count['Female'])"
   ]
  },
  {
   "cell_type": "code",
   "execution_count": 6,
   "id": "99bb2497",
   "metadata": {},
   "outputs": [
    {
     "name": "stdout",
     "output_type": "stream",
     "text": [
      "avg age of women:: 37\n"
     ]
    }
   ],
   "source": [
    "#4. What is the average age (age feature) of women?\n",
    "avg_age=df[df['gender']=='Female']['age'].mean()\n",
    "print(\"avg age of women::\",round(avg_age))"
   ]
  },
  {
   "cell_type": "code",
   "execution_count": 7,
   "id": "c6ac260b",
   "metadata": {},
   "outputs": [
    {
     "data": {
      "text/plain": [
       "array(['United-States', '?', 'Peru', 'Guatemala', 'Mexico',\n",
       "       'Dominican-Republic', 'Ireland', 'Germany', 'Philippines',\n",
       "       'Thailand', 'Haiti', 'El-Salvador', 'Puerto-Rico', 'Vietnam',\n",
       "       'South', 'Columbia', 'Japan', 'India', 'Cambodia', 'Poland',\n",
       "       'Laos', 'England', 'Cuba', 'Taiwan', 'Italy', 'Canada', 'Portugal',\n",
       "       'China', 'Nicaragua', 'Honduras', 'Iran', 'Scotland', 'Jamaica',\n",
       "       'Ecuador', 'Yugoslavia', 'Hungary', 'Hong', 'Greece',\n",
       "       'Trinadad&Tobago', 'Outlying-US(Guam-USVI-etc)', 'France',\n",
       "       'Holand-Netherlands'], dtype=object)"
      ]
     },
     "execution_count": 7,
     "metadata": {},
     "output_type": "execute_result"
    }
   ],
   "source": [
    "df['native-country'].unique()"
   ]
  },
  {
   "cell_type": "code",
   "execution_count": 8,
   "id": "0573b794",
   "metadata": {
    "scrolled": true
   },
   "outputs": [
    {
     "name": "stdout",
     "output_type": "stream",
     "text": [
      "percentage count of german citizens:: 0.422\n"
     ]
    }
   ],
   "source": [
    "#5. What is the percentage of German citizens (native-country feature)?\n",
    "germany=df[df['native-country']=='Germany']\n",
    "german_cnt=germany['native-country'].count()\n",
    "percentage=(german_cnt/len(df))*100\n",
    "print(\"percentage count of german citizens::\",round(percentage,3))"
   ]
  },
  {
   "cell_type": "code",
   "execution_count": 13,
   "id": "0f178f2f",
   "metadata": {},
   "outputs": [
    {
     "name": "stdout",
     "output_type": "stream",
     "text": [
      "mean for salary more than 50K 44.275\n",
      "std for salary more than 50K 10.559\n",
      "mean for salary less than 50k 36.872\n",
      "std for salary less than 50k 14.104\n"
     ]
    }
   ],
   "source": [
    "# 6. What are the mean and standard deviation of age for those who earn more than 50K per year (salary feature)\n",
    "# and those who eam less than 50K per year.\n",
    "more_than_50k=df[df['income']==\">50K\"]['age']\n",
    "less_than_50k=df[df['income']==\"<=50K\"]['age']\n",
    "mean_1=more_than_50k.mean()\n",
    "std_1=more_than_50k.std()\n",
    "\n",
    "mean_2=less_than_50k.mean()\n",
    "std_2=less_than_50k.std()\n",
    "print('mean for salary more than 50K',round(mean_1,3))\n",
    "print('std for salary more than 50K',round(std_1,3))\n",
    "\n",
    "print(\"mean for salary less than 50k\",round(mean_2,3))\n",
    "print(\"std for salary less than 50k\",round(std_2,3))\n"
   ]
  },
  {
   "cell_type": "code",
   "execution_count": 20,
   "id": "3e2c1981",
   "metadata": {},
   "outputs": [
    {
     "data": {
      "text/plain": [
       "array(['11th', 'HS-grad', 'Assoc-acdm', 'Some-college', '10th',\n",
       "       'Prof-school', '7th-8th', 'Bachelors', 'Masters', 'Doctorate',\n",
       "       '5th-6th', 'Assoc-voc', '9th', '12th', '1st-4th', 'Preschool'],\n",
       "      dtype=object)"
      ]
     },
     "execution_count": 20,
     "metadata": {},
     "output_type": "execute_result"
    }
   ],
   "source": [
    "df['education'].unique()"
   ]
  },
  {
   "cell_type": "code",
   "execution_count": 39,
   "id": "d3d9d287",
   "metadata": {},
   "outputs": [
    {
     "name": "stdout",
     "output_type": "stream",
     "text": [
      "percentage of people who has income mre than 50k:: 75.45 %\n",
      "in the data around 75.45% people who earn more than 50K has at least completed there higher education \n"
     ]
    }
   ],
   "source": [
    "# 7. that people who earn more than 50K have at least high school education?\n",
    "# (edicaton-Bachelors, Prof-school Love-an, Anse-soc, Masters or Doctorate feature)\n",
    "edu=[\"Bachelors\", \"Prof-school\", \"Some-college\", \"Masters\", \"Doctorate\", \"Assoc-acdm\", \"Assoc-voc\"]\n",
    "higher_edu=edu = df[df['income'] == '>50K']['education'].isin(edu).mean()\n",
    "print(\"percentage of people who has income mre than 50k::\",round(higher_edu*100,2),\"%\") \n",
    "print(\"in the data around 75.45% people who earn more than 50K has at least completed there higher education \")"
   ]
  },
  {
   "cell_type": "code",
   "execution_count": 27,
   "id": "0386a62c",
   "metadata": {},
   "outputs": [
    {
     "name": "stdout",
     "output_type": "stream",
     "text": [
      "2       Assoc-acdm\n",
      "3     Some-college\n",
      "7      Prof-school\n",
      "10         HS-grad\n",
      "14         HS-grad\n",
      "Name: education, dtype: object\n"
     ]
    }
   ],
   "source": [
    "edu = df[df['income'] == '>50K']['education']\n"
   ]
  },
  {
   "cell_type": "code",
   "execution_count": 44,
   "id": "55d9f11b",
   "metadata": {
    "scrolled": true
   },
   "outputs": [
    {
     "name": "stdout",
     "output_type": "stream",
     "text": [
      "                             count       mean        std   min   25%   50%  \\\n",
      "race               gender                                                    \n",
      "Amer-Indian-Eskimo Female    185.0  36.237838  12.840056  17.0  26.0  35.0   \n",
      "                   Male      285.0  36.989474  11.703943  17.0  29.0  35.0   \n",
      "Asian-Pac-Islander Female    517.0  35.657640  12.637799  17.0  25.0  34.0   \n",
      "                   Male     1002.0  38.994012  12.824878  18.0  29.0  37.0   \n",
      "Black              Female   2308.0  37.905979  12.736001  17.0  28.0  36.0   \n",
      "                   Male     2377.0  37.922592  13.036981  17.0  28.0  36.0   \n",
      "Other              Female    155.0  31.212903  11.233061  17.0  23.0  29.0   \n",
      "                   Male      251.0  35.167331  11.808297  17.0  26.0  32.0   \n",
      "White              Female  13027.0  36.882935  14.454178  17.0  25.0  35.0   \n",
      "                   Male    28735.0  39.704507  13.475250  17.0  29.0  38.0   \n",
      "\n",
      "                            75%   max  \n",
      "race               gender              \n",
      "Amer-Indian-Eskimo Female  46.0  80.0  \n",
      "                   Male    44.0  82.0  \n",
      "Asian-Pac-Islander Female  44.0  81.0  \n",
      "                   Male    46.0  90.0  \n",
      "Black              Female  46.0  90.0  \n",
      "                   Male    46.0  90.0  \n",
      "Other              Female  37.0  74.0  \n",
      "                   Male    42.5  77.0  \n",
      "White              Female  47.0  90.0  \n",
      "                   Male    49.0  90.0  \n",
      "Maximum age of Amer-Indian-Eskimo men: 82\n"
     ]
    }
   ],
   "source": [
    "# 8. Display age statistics for each race (race feature) and each gender (sex feature). Use groupby() and describe().\n",
    "# Find the maximum age of men of Amer Inhan Eskimo race.\n",
    "age_stats = df.groupby([\"race\", \"gender\"])[\"age\"].describe()\n",
    "print(age_stats)\n",
    "\n",
    "max_age = df[(df[\"race\"] == \"Amer-Indian-Eskimo\") & (df[\"gender\"] == \"Male\")][\"age\"].max()\n",
    "print(\"Maximum age of Amer-Indian-Eskimo men:\", max_age)\n"
   ]
  },
  {
   "cell_type": "code",
   "execution_count": 52,
   "id": "6f73abd8",
   "metadata": {},
   "outputs": [
    {
     "name": "stdout",
     "output_type": "stream",
     "text": [
      "married_high_earners:: 0.441\n",
      "single_high_earners:: 0.081\n"
     ]
    }
   ],
   "source": [
    "# 9. Amang whom is the proportion of these who earn a lot (>50K) greater married or single men (marital-status feature)? \n",
    "# Consider as married those who have a marital-status starting with Maried (Married civ-spouse, Married-spouse-absent or Maried-AF-spouse), the rest are considered bachelors.\n",
    "\n",
    "df[\"marital-status\"] = df[\"marital-status\"].apply(lambda x: \"Married\" if x.startswith(\"Married\") else \"Single\")\n",
    "\n",
    "married_high_earners = df[(df[\"marital-status\"] == \"Married\") & (df[\"gender\"] == \"Male\")][\"income\"].eq(\">50K\").mean()\n",
    "single_high_earners = df[(df[\"marital-status\"] == \"Single\") & (df[\"gender\"] == \"Male\")][\"income\"].eq(\">50K\").mean()\n",
    "print(\"married_high_earners::\",round(married_high_earners,3))\n",
    "print(\"single_high_earners::\",round(single_high_earners,3))"
   ]
  },
  {
   "cell_type": "code",
   "execution_count": 55,
   "id": "6833603e",
   "metadata": {},
   "outputs": [
    {
     "name": "stdout",
     "output_type": "stream",
     "text": [
      "Maximum hours per week worked: 99\n",
      "Number of people working max hours: 137\n",
      "Percentage of more than 50K earners among them : 29.93 %\n"
     ]
    }
   ],
   "source": [
    "# 10. What is the maximun nanber of hours a person works per work (hars per-wool feature)? How many people work such a number of hours,\n",
    "# and what is the percentage of those who carn a lot (>50K) among them\n",
    "max_hours = df[\"hours-per-week\"].max()\n",
    "people_max = (df[\"hours-per-week\"] == max_hours).sum()\n",
    "high_earners= df[(df[\"hours-per-week\"] == max_hours) & (df[\"income\"] == \">50K\")].shape[0]\n",
    "percentage = (high_earners / people_max) * 100\n",
    "\n",
    "print(\"Maximum hours per week worked:\", max_hours)\n",
    "print(\"Number of people working max hours:\", people_max)\n",
    "print(\"Percentage of more than 50K earners among them :\", round(percentage, 2), \"%\")"
   ]
  },
  {
   "cell_type": "code",
   "execution_count": null,
   "id": "ebce548b",
   "metadata": {},
   "outputs": [],
   "source": []
  }
 ],
 "metadata": {
  "kernelspec": {
   "display_name": "Python 3 (ipykernel)",
   "language": "python",
   "name": "python3"
  },
  "language_info": {
   "codemirror_mode": {
    "name": "ipython",
    "version": 3
   },
   "file_extension": ".py",
   "mimetype": "text/x-python",
   "name": "python",
   "nbconvert_exporter": "python",
   "pygments_lexer": "ipython3",
   "version": "3.11.1"
  }
 },
 "nbformat": 4,
 "nbformat_minor": 5
}
