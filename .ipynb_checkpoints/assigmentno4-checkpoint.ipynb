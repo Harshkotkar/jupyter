{
 "cells": [
  {
   "cell_type": "raw",
   "id": "83002e7c",
   "metadata": {},
   "source": [
    "\n",
    "# 1)Write a Python program to check that a string contains only the characters a-z, A-Z and 0-9)\n",
    "\n",
    "\n",
    "import re\n",
    "\n",
    "def check_string(s):\n",
    "    pattern = r'^[a-zA-Z0-9]+$'\n",
    "    if re.match(pattern, s):\n",
    "        return True\n",
    "    else:\n",
    "        return False\n",
    "\n",
    "user = input(\"Enter a string: \")\n",
    "if check_string(user):\n",
    "    print(\"The string contains a-z, A-Z, and 0-9.\")\n",
    "else:\n",
    "    print(\"The string contains other characters.\")\n"
   ]
  },
  {
   "cell_type": "code",
   "execution_count": null,
   "id": "5d5fec59",
   "metadata": {},
   "outputs": [],
   "source": []
  },
  {
   "cell_type": "code",
   "execution_count": 8,
   "id": "c9cac5dd",
   "metadata": {},
   "outputs": [
    {
     "name": "stdout",
     "output_type": "stream",
     "text": [
      "Enter a string: abc\n",
      "The string matches the pattern 'a' followed by one or more 'b's.\n"
     ]
    }
   ],
   "source": [
    "# 2)Write a Python program that matches a string that has an a followed by one or more b's.\n",
    "# Accept the string from the user.\n",
    "\n",
    "import re\n",
    "\n",
    "def match_ab(s):\n",
    "    pattern = r'a+b+'\n",
    "    if re.search(pattern, s):\n",
    "        return True\n",
    "    else:\n",
    "        return False\n",
    "\n",
    "user= input(\"Enter a string: \")\n",
    "if match_ab(user):\n",
    "    print(\"The string matches the pattern 'a' followed by one or more 'b's.\")\n",
    "else:\n",
    "    print(\"The string does not match the pattern.\")\n"
   ]
  },
  {
   "cell_type": "code",
   "execution_count": 10,
   "id": "d2bd3962",
   "metadata": {},
   "outputs": [
    {
     "name": "stdout",
     "output_type": "stream",
     "text": [
      "Found words: fox, dog\n"
     ]
    }
   ],
   "source": [
    "\n",
    "# 3)Write a Python program to search some literals strings in a string. Go to the editor Sample text : 'The quick brown fox jumps over the lazy dog.'\n",
    "#     Searched words : 'fox', 'dog', 'horse'.\n",
    "\n",
    "import re\n",
    "\n",
    "def search(text, words):\n",
    "    found_words = []\n",
    "    for w in words:\n",
    "        if re.search(w, text):\n",
    "            found_words.append(w)\n",
    "    return found_words\n",
    "\n",
    "sample = 'The quick brown fox jumps over the lazy dog.'\n",
    "words = ['fox', 'dog', 'horse']\n",
    "\n",
    "found = search(sample, words)\n",
    "if found:\n",
    "    print(f\"Found words: {', '.join(found)}\")\n",
    "else:\n",
    "    print(\"No searched words found in the sample text.\")\n"
   ]
  },
  {
   "cell_type": "code",
   "execution_count": null,
   "id": "ee0f4b38",
   "metadata": {},
   "outputs": [],
   "source": []
  }
 ],
 "metadata": {
  "kernelspec": {
   "display_name": "Python 3 (ipykernel)",
   "language": "python",
   "name": "python3"
  },
  "language_info": {
   "codemirror_mode": {
    "name": "ipython",
    "version": 3
   },
   "file_extension": ".py",
   "mimetype": "text/x-python",
   "name": "python",
   "nbconvert_exporter": "python",
   "pygments_lexer": "ipython3",
   "version": "3.11.1"
  }
 },
 "nbformat": 4,
 "nbformat_minor": 5
}
