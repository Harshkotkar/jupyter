{
 "cells": [
  {
   "cell_type": "code",
   "execution_count": 23,
   "id": "d823c035",
   "metadata": {},
   "outputs": [
    {
     "name": "stdout",
     "output_type": "stream",
     "text": [
      "(6, 7, 8, 9, 10, 11, 12, 13, 14, 15, 16, 18, 17, 20, 19, 31, 32, 22, 24, 23, 25)\n",
      "(5, 4, 3, 2, 1)\n"
     ]
    }
   ],
   "source": [
    "t1=(1,2,3,4,5)\n",
    "t2=(6,7,8,9,10,11,12,13,14,15,16,18,17,20,19,31,32,22,24,23,25)\n",
    "print(t2)\n",
    "rev_t1=t1[::-1]\n",
    "print(rev_t1)"
   ]
  },
  {
   "cell_type": "code",
   "execution_count": 11,
   "id": "4a2b4d5d",
   "metadata": {},
   "outputs": [
    {
     "name": "stdout",
     "output_type": "stream",
     "text": [
      "6\n"
     ]
    }
   ],
   "source": [
    "index_20=t2.index(6)\n",
    "value=t2[index_20]\n",
    "print(value)"
   ]
  },
  {
   "cell_type": "code",
   "execution_count": 27,
   "id": "e0929005",
   "metadata": {},
   "outputs": [
    {
     "name": "stdout",
     "output_type": "stream",
     "text": [
      "(6, 7, 8, 9, 10, 11, 12, 13, 14, 15, 16, 18, 17, 20, 19, 31, 32, 22, 24, 23)\n"
     ]
    }
   ],
   "source": [
    "first_20=t2[:20]\n",
    "print(first_20)"
   ]
  },
  {
   "cell_type": "code",
   "execution_count": 25,
   "id": "83895596",
   "metadata": {},
   "outputs": [
    {
     "name": "stdout",
     "output_type": "stream",
     "text": [
      "(50,)\n"
     ]
    }
   ],
   "source": [
    "t4=(50,)\n",
    "print(t4)"
   ]
  },
  {
   "cell_type": "code",
   "execution_count": 26,
   "id": "045e02d4",
   "metadata": {},
   "outputs": [
    {
     "name": "stdout",
     "output_type": "stream",
     "text": [
      "10\n",
      "20\n",
      "30\n",
      "40\n",
      "50\n"
     ]
    }
   ],
   "source": [
    "t5=(10,20,30,40,50)\n",
    "a,b,c,d,e=t5\n",
    "print(a)\n",
    "print(b)\n",
    "print(c)\n",
    "print(d)\n",
    "print(e)"
   ]
  },
  {
   "cell_type": "code",
   "execution_count": 34,
   "id": "c22987f6",
   "metadata": {},
   "outputs": [
    {
     "name": "stdout",
     "output_type": "stream",
     "text": [
      "swap_t5 : (1, 2, 3, 4, 5)\n",
      "swap_t6 : (1, 2, 3, 4, 5)\n"
     ]
    }
   ],
   "source": [
    "t6=(1,2,3,4,5)\n",
    "t5,t6=t6,t5\n",
    "print(\"swap_t5 :\",t5)\n",
    "print(\"swap_t6 :\",t6)"
   ]
  },
  {
   "cell_type": "code",
   "execution_count": 36,
   "id": "129ce9b2",
   "metadata": {},
   "outputs": [
    {
     "name": "stdout",
     "output_type": "stream",
     "text": [
      "Original T6: (1, 2, 3, 4, 5)\n",
      "New Tuple: (1, 2, 3, 4, 5, 2)\n"
     ]
    }
   ],
   "source": [
    "# copy specific element from one tuple to another tupple\n",
    "element_copy = t5[1] \n",
    "new_tuple = t6 + (element_copy,)\n",
    "\n",
    "print(\"Original T6:\", t6)\n",
    "print(\"New Tuple:\", new_tuple)     \n",
    "\n"
   ]
  },
  {
   "cell_type": "code",
   "execution_count": 37,
   "id": "226a90a0",
   "metadata": {},
   "outputs": [
    {
     "name": "stdout",
     "output_type": "stream",
     "text": [
      "Original Tuple: (10, 20, 30)\n",
      "Modified Tuple: (10, 25, 30)\n"
     ]
    }
   ],
   "source": [
    "# modify the tuple\n",
    "\n",
    "my_tuple = (10, 20, 30)\n",
    "\n",
    "temp_list = list(my_tuple)\n",
    "\n",
    "temp_list[1] = 25  \n",
    "\n",
    "modified_tuple = tuple(temp_list)\n",
    "\n",
    "print(\"Original Tuple:\", my_tuple)  \n",
    "print(\"Modified Tuple:\", modified_tuple)  \n"
   ]
  },
  {
   "cell_type": "code",
   "execution_count": 40,
   "id": "4106ffaf",
   "metadata": {},
   "outputs": [
    {
     "name": "stdout",
     "output_type": "stream",
     "text": [
      "{1, 2, 3, 4, 5, 6, 7, 8, 9}\n"
     ]
    }
   ],
   "source": [
    "#add a list of element to a set\n",
    "set1={1,2,3,4,5,6,7,8,9}\n",
    "print(set1)"
   ]
  },
  {
   "cell_type": "code",
   "execution_count": null,
   "id": "8f842851",
   "metadata": {},
   "outputs": [],
   "source": []
  }
 ],
 "metadata": {
  "kernelspec": {
   "display_name": "Python 3 (ipykernel)",
   "language": "python",
   "name": "python3"
  },
  "language_info": {
   "codemirror_mode": {
    "name": "ipython",
    "version": 3
   },
   "file_extension": ".py",
   "mimetype": "text/x-python",
   "name": "python",
   "nbconvert_exporter": "python",
   "pygments_lexer": "ipython3",
   "version": "3.11.1"
  }
 },
 "nbformat": 4,
 "nbformat_minor": 5
}
