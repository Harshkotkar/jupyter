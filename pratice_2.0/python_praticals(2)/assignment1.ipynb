{
 "cells": [
  {
   "cell_type": "markdown",
   "metadata": {},
   "source": [
    "# Assigment 1\n"
   ]
  },
  {
   "cell_type": "code",
   "execution_count": 9,
   "metadata": {
    "id": "GLE7V59eJCLQ"
   },
   "outputs": [],
   "source": [
    "import numpy as np"
   ]
  },
  {
   "cell_type": "markdown",
   "metadata": {
    "id": "FPI33BSyKSZr"
   },
   "source": [
    "Program to find maximum value and minimum value form the given matrix"
   ]
  },
  {
   "cell_type": "code",
   "execution_count": 10,
   "metadata": {
    "colab": {
     "base_uri": "https://localhost:8080/"
    },
    "id": "S_7fHgaHJKl9",
    "outputId": "af63ec94-5af7-4f82-ee95-bc301a92dcb7"
   },
   "outputs": [
    {
     "name": "stdout",
     "output_type": "stream",
     "text": [
      "first matrix =\n",
      "[[1 2 3 4]\n",
      " [5 6 7 8]]\n",
      "dimension of the matrix a= 2\n",
      "min value of the matrix a= 1\n",
      "max value of the matrix a= 8\n"
     ]
    }
   ],
   "source": [
    "a=np.array([[1,2,3,4],[5,6,7,8]])\n",
    "print(\"first matrix =\")\n",
    "print(a)\n",
    "print(\"dimension of the matrix a=\",a.ndim)\n",
    "max=np.max(a)\n",
    "min=np.min(a)\n",
    "print('min value of the matrix a=',min)\n",
    "print('max value of the matrix a=',max)\n",
    "\n"
   ]
  },
  {
   "cell_type": "markdown",
   "metadata": {
    "id": "yL-5VNWHLNlI"
   },
   "source": [
    "using logic"
   ]
  },
  {
   "cell_type": "code",
   "execution_count": 11,
   "metadata": {
    "colab": {
     "base_uri": "https://localhost:8080/"
    },
    "id": "t18Qm10kJkcO",
    "outputId": "b214d866-24dc-447b-ee5a-eb38f0657b1f"
   },
   "outputs": [
    {
     "name": "stdout",
     "output_type": "stream",
     "text": [
      "max val of a= 8\n",
      "min val of a= 1\n"
     ]
    }
   ],
   "source": [
    "def max_val(a):\n",
    "  max=a[0][0]\n",
    "  min=a[0][0]\n",
    "  for i in a:\n",
    "    for j in i:\n",
    "      if j>max:\n",
    "        max=j\n",
    "        if j<min:\n",
    "          min=j\n",
    "print(\"max val of a=\",max)\n",
    "print(\"min val of a=\",min)"
   ]
  },
  {
   "cell_type": "markdown",
   "metadata": {
    "id": "z8YmjRzaNCeB"
   },
   "source": [
    "2. Program to perform following operations on the given matrix  \n",
    "a. Find the number of rows and columns of a given matrix using NumPy             \n",
    "b. Find the sum of values in a matrix"
   ]
  },
  {
   "cell_type": "code",
   "execution_count": 12,
   "metadata": {
    "colab": {
     "base_uri": "https://localhost:8080/"
    },
    "id": "RhuLV49YKNnm",
    "outputId": "78c20acd-eef7-425c-9610-453642f46fbf"
   },
   "outputs": [
    {
     "name": "stdout",
     "output_type": "stream",
     "text": [
      "rows and columns 2 , 4\n",
      "sum of the matrix a= 36\n"
     ]
    }
   ],
   "source": [
    "rows,columns=a.shape\n",
    "sum=np.sum(a)\n",
    "print(\"rows and columns\",rows,\",\",columns)\n",
    "print(\"sum of the matrix a=\",sum)"
   ]
  },
  {
   "cell_type": "code",
   "execution_count": 13,
   "metadata": {
    "colab": {
     "base_uri": "https://localhost:8080/"
    },
    "id": "XRFOThSHM6QN",
    "outputId": "2e2196dc-9bb2-409b-9462-7f096bec4e81"
   },
   "outputs": [
    {
     "name": "stdout",
     "output_type": "stream",
     "text": [
      "55\n",
      "sum of the matrix a= 55\n"
     ]
    }
   ],
   "source": [
    "# logic for the sum of  the matrix\n",
    "a=np.array([[1,2,3,4,5],[6,7,8,9,10]])\n",
    "c=0\n",
    "print(np.sum(a))\n",
    "for i in a:\n",
    "  for j in i:\n",
    "    c=c+j\n",
    "print(\"sum of the matrix a=\",c)"
   ]
  },
  {
   "cell_type": "markdown",
   "metadata": {
    "id": "TAvwB6jFPuU9"
   },
   "source": [
    "3. Program to perform following operations on 3x3 matrix:                  \n",
    "a. addition of two matrices               \n",
    "b. Subtraction of two matrices"
   ]
  },
  {
   "cell_type": "code",
   "execution_count": 14,
   "metadata": {
    "colab": {
     "base_uri": "https://localhost:8080/"
    },
    "id": "HVR-XU94OPOG",
    "outputId": "7cd5e3eb-5166-45ba-8a09-5953f11beb97"
   },
   "outputs": [
    {
     "name": "stdout",
     "output_type": "stream",
     "text": [
      "first matrix =\n",
      "[[[ 1  2  3]\n",
      "  [ 4  5  6]]\n",
      "\n",
      " [[ 7  8  9]\n",
      "  [10 11 12]]]\n",
      "second matrix =\n",
      "[[[13 14 15]\n",
      "  [16 17 18]]\n",
      "\n",
      " [[19 20 21]\n",
      "  [22 23 24]]]\n",
      "addition =\n",
      "[[[14 16 18]\n",
      "  [20 22 24]]\n",
      "\n",
      " [[26 28 30]\n",
      "  [32 34 36]]]\n",
      "substraction =\n",
      "[[[12 12 12]\n",
      "  [12 12 12]]\n",
      "\n",
      " [[12 12 12]\n",
      "  [12 12 12]]]\n"
     ]
    }
   ],
   "source": [
    "matrix_3=np.array([[[1,2,3],[4,5,6]],[[7,8,9],[10,11,12]]])\n",
    "matrix_4=np.array([[[13,14,15],[16,17,18]],[[19,20,21],[22,23,24]]])\n",
    "print(\"first matrix =\")\n",
    "print(matrix_3)\n",
    "print(\"second matrix =\")\n",
    "print(matrix_4)\n",
    "print(\"addition =\")\n",
    "print(matrix_3+matrix_4)\n",
    "print(\"substraction =\")\n",
    "print(matrix_4 - matrix_3)\n"
   ]
  },
  {
   "cell_type": "code",
   "execution_count": 15,
   "metadata": {
    "colab": {
     "base_uri": "https://localhost:8080/"
    },
    "id": "0Q4rPcm8QV9G",
    "outputId": "8b7ca85b-0679-4060-8270-fdb0d0faa7bb"
   },
   "outputs": [
    {
     "name": "stdout",
     "output_type": "stream",
     "text": [
      "Addition of matrices:\n",
      "[[[14 16 18]\n",
      "  [20 22 24]]\n",
      "\n",
      " [[26 28 30]\n",
      "  [32 34 36]]]\n",
      "Subtraction of  matrices:\n",
      "[[[12 12 12]\n",
      "  [12 12 12]]\n",
      "\n",
      " [[12 12 12]\n",
      "  [12 12 12]]]\n"
     ]
    }
   ],
   "source": [
    "addition = np.zeros(matrix_3.shape, dtype=int)\n",
    "subtraction = np.zeros(matrix_3.shape, dtype=int)\n",
    "\n",
    "for i in range(matrix_3.shape[0]):\n",
    "    for j in range(matrix_3.shape[1]):\n",
    "        for k in range(matrix_3.shape[2]):\n",
    "            addition[i][j][k] = matrix_3[i][j][k] + matrix_4[i][j][k]\n",
    "            subtraction[i][j][k] = matrix_4[i][j][k] - matrix_3[i][j][k]\n",
    "\n",
    "print(\"Addition of matrices:\")\n",
    "print(addition)\n",
    "print(\"Subtraction of  matrices:\")\n",
    "print(subtraction)"
   ]
  },
  {
   "cell_type": "markdown",
   "metadata": {
    "id": "krjbWlpLXH7r"
   },
   "source": [
    "4. Program to perform following operations on 1D array                    \n",
    "a. Count the frequency of unique values in NumPy array?                           \n",
    "b. Convert the matrix into a list         \n",
    "c. Replace negative value with zero in numpy array"
   ]
  },
  {
   "cell_type": "code",
   "execution_count": 16,
   "metadata": {
    "colab": {
     "base_uri": "https://localhost:8080/"
    },
    "id": "AdOjrq6RSbfN",
    "outputId": "78cd17b5-5628-4ebf-f3be-af359329e305"
   },
   "outputs": [
    {
     "name": "stdout",
     "output_type": "stream",
     "text": [
      "Unique values and their counts: {-14: 1, -4: 1, 1: 1, 3: 1, 5: 2, 12: 1}\n",
      "Converted array to list: [1, 5, 12, 3, -14, -4, 5]\n",
      "Array after replacing negative values with zero: [ 1  5 12  3  0  0  5]\n"
     ]
    }
   ],
   "source": [
    "\n",
    "arr = np.array([1, 5, 12, 3, -14, -4, 5])\n",
    "# a. Count the frequency of unique values in NumPy array\n",
    "unique_values, counts = np.unique(arr, return_counts=True)\n",
    "print(\"Unique values and their counts:\", dict(zip(unique_values, counts)))\n",
    "\n",
    "# b. Convert the matrix into a list\n",
    "arr_list = arr.tolist()\n",
    "print(\"Converted array to list:\", arr_list)\n",
    "\n",
    "# c. Replace negative value with zero in NumPy array\n",
    "arr[arr < 0] = 0\n",
    "print(\"Array after replacing negative values with zero:\", arr)"
   ]
  },
  {
   "cell_type": "code",
   "execution_count": 17,
   "metadata": {
    "colab": {
     "base_uri": "https://localhost:8080/"
    },
    "id": "jPjQE3YxYJiX",
    "outputId": "1e6c13dd-21b7-4176-aa0a-2994c1a05e60"
   },
   "outputs": [
    {
     "name": "stdout",
     "output_type": "stream",
     "text": [
      "Unique values: [0, 1, 3, 5, 12]\n",
      "Frequency of unique values: [2, 1, 1, 2, 1]\n",
      "Array as a list: [1, 5, 12, 3, 0, 0, 5]\n",
      "Array after replacing negative values with zero: [1, 5, 12, 3, 0, 0, 5]\n"
     ]
    }
   ],
   "source": [
    "def analyze_array(arr):\n",
    "    unique, counts = np.unique(arr, return_counts=True)\n",
    "\n",
    "    array_as_list = arr.tolist()\n",
    "\n",
    "    replaced_array = np.where(arr < 0, 0, arr).tolist()\n",
    "\n",
    "    print(\"Unique values:\", unique.tolist())\n",
    "    print(\"Frequency of unique values:\", counts.tolist())\n",
    "    print(\"Array as a list:\", array_as_list)\n",
    "    print(\"Array after replacing negative values with zero:\", replaced_array)\n",
    "\n",
    "analyze_array(arr)\n"
   ]
  },
  {
   "cell_type": "markdown",
   "metadata": {
    "id": "hK2NAPbEbNxY"
   },
   "source": [
    "5. Program to perform statistical operations on the given array.            \n",
    "a. Compute the median of the flattened NumPy array                               \n",
    "b. Find Mean of  Numpy Array                 \n",
    "c. Compute the variance of the NumPy array"
   ]
  },
  {
   "cell_type": "code",
   "execution_count": 18,
   "metadata": {
    "colab": {
     "base_uri": "https://localhost:8080/"
    },
    "id": "42ppcncFbTmf",
    "outputId": "0565dff6-238f-4aef-9bc3-ac4f514df2d1"
   },
   "outputs": [
    {
     "name": "stdout",
     "output_type": "stream",
     "text": [
      "Median of the flattened array: 3.0\n",
      "Mean of the array: 3.7142857142857144\n",
      "Variance of the array: 15.3469387755102\n",
      "Standard deviation of the array: 3.9175169145148816\n"
     ]
    }
   ],
   "source": [
    "median = np.median(arr)\n",
    "mean = np.mean(arr)\n",
    "variance = np.var(arr)\n",
    "std_dev = np.std(arr)\n",
    "print(\"Median of the flattened array:\", median)\n",
    "print(\"Mean of the array:\", mean)\n",
    "print(\"Variance of the array:\", variance)\n",
    "print(\"Standard deviation of the array:\", std_dev)"
   ]
  },
  {
   "cell_type": "code",
   "execution_count": 19,
   "metadata": {
    "colab": {
     "base_uri": "https://localhost:8080/"
    },
    "id": "uJAM9n8QcdDv",
    "outputId": "f2f428a6-68cf-4713-fb2b-64ac350b03df"
   },
   "outputs": [
    {
     "name": "stdout",
     "output_type": "stream",
     "text": [
      "Mean = 3.7142857142857144\n",
      "Variance = 15.3469387755102\n",
      "Standard Deviation = 3.9175169145148816\n"
     ]
    }
   ],
   "source": [
    "sorted_array = sorted(arr)\n",
    "n = len(sorted_array)\n",
    "\n",
    "# Mean\n",
    "mean_value = np.sum(arr) / n\n",
    "\n",
    "# Variance\n",
    "variance = np.sum((arr - mean_value) ** 2) / n\n",
    "\n",
    "# Standard Deviation\n",
    "std_dev = variance ** 0.5\n",
    "\n",
    "print('Mean =', mean_value)\n",
    "print('Variance =', variance)\n",
    "print('Standard Deviation =', std_dev)\n"
   ]
  },
  {
   "cell_type": "markdown",
   "metadata": {
    "id": "GLKmjV4bdqPM"
   },
   "source": [
    "6. Create a 5X2 integer array from a range between 100 to 200 such that the\n",
    "difference between each element is 10"
   ]
  },
  {
   "cell_type": "code",
   "execution_count": 20,
   "metadata": {
    "id": "88c9ON5OdChG"
   },
   "outputs": [
    {
     "data": {
      "text/plain": [
       "array([[100, 110],\n",
       "       [120, 130],\n",
       "       [140, 150],\n",
       "       [160, 170],\n",
       "       [180, 190]])"
      ]
     },
     "execution_count": 20,
     "metadata": {},
     "output_type": "execute_result"
    }
   ],
   "source": [
    "np.arange(100, 200, 10).reshape(5, 2)"
   ]
  },
  {
   "cell_type": "markdown",
   "metadata": {
    "id": "yauL1gL9d1lP"
   },
   "source": [
    "7.Following is the provided numPy array. Return array of item by taking   the third column from all rows                 \n"
   ]
  },
  {
   "cell_type": "code",
   "execution_count": null,
   "metadata": {
    "colab": {
     "base_uri": "https://localhost:8080/"
    },
    "id": "jB1tJTj0eC-g",
    "outputId": "3cc6153a-face-4a1a-9eda-20b478f1e0a8"
   },
   "outputs": [],
   "source": [
    "a= np.array([[11, 22, 33], [44, 55, 66], [77, 88, 99]])\n",
    "third_column = a[:, 2]\n",
    "print(\"Third column from all rows:\", third_column)"
   ]
  },
  {
   "cell_type": "code",
   "execution_count": null,
   "metadata": {
    "id": "cTrfyKo9eYcw"
   },
   "outputs": [],
   "source": []
  }
 ],
 "metadata": {
  "colab": {
   "provenance": []
  },
  "kernelspec": {
   "display_name": "Python 3 (ipykernel)",
   "language": "python",
   "name": "python3"
  },
  "language_info": {
   "codemirror_mode": {
    "name": "ipython",
    "version": 3
   },
   "file_extension": ".py",
   "mimetype": "text/x-python",
   "name": "python",
   "nbconvert_exporter": "python",
   "pygments_lexer": "ipython3",
   "version": "3.11.1"
  }
 },
 "nbformat": 4,
 "nbformat_minor": 1
}
