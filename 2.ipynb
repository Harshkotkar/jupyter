{
 "cells": [
  {
   "cell_type": "code",
   "execution_count": 13,
   "id": "bbb938f0",
   "metadata": {},
   "outputs": [
    {
     "name": "stdout",
     "output_type": "stream",
     "text": [
      "Xenotransplantation\n"
     ]
    }
   ],
   "source": [
    "# Exercise 1   Write a program that reads words.txt and prints only the words with more than 20 characters\n",
    "# (not counting whitespace).\n",
    "\n",
    "\n",
    "b=open(\"fist.txt\",\"r\")\n",
    "c=b.read()\n",
    "d=c.split()\n",
    "for i in d :\n",
    "    if len(i)>10:\n",
    "        print(i)\n"
   ]
  },
  {
   "cell_type": "code",
   "execution_count": 2,
   "id": "9c1b20ab",
   "metadata": {},
   "outputs": [
    {
     "name": "stdout",
     "output_type": "stream",
     "text": [
      "No of lines not starting with 't': 0\n"
     ]
    }
   ],
   "source": [
    "def line_count():\n",
    "    create=open(\"story.txt\",\"w\")\n",
    "    str=create.write(\"There is a playground.An aeroplane is in the sky.The sky is pink.\")\n",
    "    file = open(\"story.txt\",\"r\")\n",
    "    count=0\n",
    "    for line in file:\n",
    "        if line[0] not in 'T':\n",
    "            count+= 1\n",
    "    print(\"No of lines not starting with 't':\",count)\n",
    "line_count()"
   ]
  },
  {
   "cell_type": "code",
   "execution_count": null,
   "id": "e5fa18dc",
   "metadata": {},
   "outputs": [],
   "source": []
  }
 ],
 "metadata": {
  "kernelspec": {
   "display_name": "Python 3 (ipykernel)",
   "language": "python",
   "name": "python3"
  },
  "language_info": {
   "codemirror_mode": {
    "name": "ipython",
    "version": 3
   },
   "file_extension": ".py",
   "mimetype": "text/x-python",
   "name": "python",
   "nbconvert_exporter": "python",
   "pygments_lexer": "ipython3",
   "version": "3.11.1"
  }
 },
 "nbformat": 4,
 "nbformat_minor": 5
}
