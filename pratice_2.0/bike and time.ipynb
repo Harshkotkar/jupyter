{
 "cells": [
  {
   "cell_type": "code",
   "execution_count": 21,
   "id": "38953e6c",
   "metadata": {},
   "outputs": [],
   "source": [
    "import pandas as pd\n",
    "\n",
    "data = {\n",
    "    'bike_number': [101, 102, 101, 103, 102, 104, 101, 102, 105, 106, \n",
    "                    104, 105, 106, 103, 102, 107],\n",
    "    'return_time': [\n",
    "        '2024-11-12 08:15:00', '2024-11-13 09:45:00', '2024-11-13 07:30:00',\n",
    "        '2024-11-14 10:00:00', '2024-11-14 11:15:00', '2024-11-11 06:45:00',\n",
    "        '2024-11-13 12:00:00', '2024-11-12 15:30:00', '2024-11-10 08:20:00',\n",
    "        '2024-11-14 08:05:00', '2024-11-12 09:20:00', '2024-11-14 09:30:00',\n",
    "        '2024-11-14 11:50:00', '2024-11-11 14:20:00', '2024-11-13 10:10:00',\n",
    "        '2024-11-15 13:00:00'\n",
    "    ]\n",
    "}\n",
    "\n",
    "df = pd.DataFrame(data)\n",
    "#coverting the data type from 'object' to 'datetime'\n",
    "df['return_time'] = pd.to_datetime(df['return_time'])\n"
   ]
  },
  {
   "cell_type": "code",
   "execution_count": 22,
   "id": "da2450f4",
   "metadata": {},
   "outputs": [
    {
     "name": "stdout",
     "output_type": "stream",
     "text": [
      "    bike_number         return_time\n",
      "0           101 2024-11-12 08:15:00\n",
      "1           102 2024-11-13 09:45:00\n",
      "2           101 2024-11-13 07:30:00\n",
      "3           103 2024-11-14 10:00:00\n",
      "4           102 2024-11-14 11:15:00\n",
      "5           104 2024-11-11 06:45:00\n",
      "6           101 2024-11-13 12:00:00\n",
      "7           102 2024-11-12 15:30:00\n",
      "8           105 2024-11-10 08:20:00\n",
      "9           106 2024-11-14 08:05:00\n",
      "10          104 2024-11-12 09:20:00\n",
      "11          105 2024-11-14 09:30:00\n",
      "12          106 2024-11-14 11:50:00\n",
      "13          103 2024-11-11 14:20:00\n",
      "14          102 2024-11-13 10:10:00\n",
      "15          107 2024-11-15 13:00:00\n"
     ]
    }
   ],
   "source": [
    "print(df)"
   ]
  },
  {
   "cell_type": "code",
   "execution_count": 23,
   "id": "0d8bde25",
   "metadata": {},
   "outputs": [
    {
     "data": {
      "text/plain": [
       "0    2024-11-12 08:15:00\n",
       "1    2024-11-13 09:45:00\n",
       "2    2024-11-13 07:30:00\n",
       "3    2024-11-14 10:00:00\n",
       "4    2024-11-14 11:15:00\n",
       "5    2024-11-11 06:45:00\n",
       "6    2024-11-13 12:00:00\n",
       "7    2024-11-12 15:30:00\n",
       "8    2024-11-10 08:20:00\n",
       "9    2024-11-14 08:05:00\n",
       "10   2024-11-12 09:20:00\n",
       "11   2024-11-14 09:30:00\n",
       "12   2024-11-14 11:50:00\n",
       "13   2024-11-11 14:20:00\n",
       "14   2024-11-13 10:10:00\n",
       "15   2024-11-15 13:00:00\n",
       "Name: return_time, dtype: datetime64[ns]"
      ]
     },
     "execution_count": 23,
     "metadata": {},
     "output_type": "execute_result"
    }
   ],
   "source": [
    "df['return_time']"
   ]
  },
  {
   "cell_type": "code",
   "execution_count": 27,
   "id": "28b6f824",
   "metadata": {},
   "outputs": [
    {
     "name": "stdout",
     "output_type": "stream",
     "text": [
      "    bike_number         return_time\n",
      "15          107 2024-11-15 13:00:00\n",
      "12          106 2024-11-14 11:50:00\n",
      "4           102 2024-11-14 11:15:00\n",
      "3           103 2024-11-14 10:00:00\n",
      "11          105 2024-11-14 09:30:00\n",
      "9           106 2024-11-14 08:05:00\n",
      "6           101 2024-11-13 12:00:00\n",
      "14          102 2024-11-13 10:10:00\n",
      "1           102 2024-11-13 09:45:00\n",
      "2           101 2024-11-13 07:30:00\n",
      "7           102 2024-11-12 15:30:00\n",
      "10          104 2024-11-12 09:20:00\n",
      "0           101 2024-11-12 08:15:00\n",
      "13          103 2024-11-11 14:20:00\n",
      "5           104 2024-11-11 06:45:00\n",
      "8           105 2024-11-10 08:20:00\n"
     ]
    }
   ],
   "source": [
    "#sorting the data to find the last time each bike was used on bases of return time\n",
    "last_use=df.sort_values('return_time').groupby('bike_number').tail()\n",
    "new_sort=last_use.sort_values('return_time',ascending=False)\n",
    "print(new_sort)\n"
   ]
  },
  {
   "cell_type": "code",
   "execution_count": 25,
   "id": "1671a719",
   "metadata": {},
   "outputs": [
    {
     "data": {
      "text/plain": [
       "0     101\n",
       "1     102\n",
       "3     103\n",
       "5     104\n",
       "8     105\n",
       "9     106\n",
       "15    107\n",
       "Name: bike_number, dtype: int64"
      ]
     },
     "execution_count": 25,
     "metadata": {},
     "output_type": "execute_result"
    }
   ],
   "source": [
    "df['bike_number'].drop_duplicates()"
   ]
  },
  {
   "cell_type": "code",
   "execution_count": 31,
   "id": "cdab79ba",
   "metadata": {},
   "outputs": [
    {
     "data": {
      "image/png": "[encoded data removed]",
      "text/plain": [
       "<Figure size 640x480 with 1 Axes>"
      ]
     },
     "metadata": {},
     "output_type": "display_data"
    }
   ],
   "source": [
    "import matplotlib.pyplot as plt\n",
    "bike=df['bike_number'].head(10)\n",
    "time=df['return_time'].head(10)\n",
    "plt.bar(bike,time)\n",
    "plt.show()"
   ]
  },
  {
   "cell_type": "code",
   "execution_count": 32,
   "id": "c07b3265",
   "metadata": {},
   "outputs": [
    {
     "data": {
      "text/plain": [
       "bike_number                    102\n",
       "return_time    2024-11-14 11:15:00\n",
       "Name: 4, dtype: object"
      ]
     },
     "execution_count": 32,
     "metadata": {},
     "output_type": "execute_result"
    }
   ],
   "source": [
    "df.iloc[4]"
   ]
  },
  {
   "cell_type": "code",
   "execution_count": null,
   "id": "f640df8d",
   "metadata": {},
   "outputs": [],
   "source": []
  }
 ],
 "metadata": {
  "kernelspec": {
   "display_name": "Python 3 (ipykernel)",
   "language": "python",
   "name": "python3"
  },
  "language_info": {
   "codemirror_mode": {
    "name": "ipython",
    "version": 3
   },
   "file_extension": ".py",
   "mimetype": "text/x-python",
   "name": "python",
   "nbconvert_exporter": "python",
   "pygments_lexer": "ipython3",
   "version": "3.11.1"
  }
 },
 "nbformat": 4,
 "nbformat_minor": 5
}
